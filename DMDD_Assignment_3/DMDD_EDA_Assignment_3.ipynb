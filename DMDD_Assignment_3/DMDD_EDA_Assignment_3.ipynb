{
 "cells": [
  {
   "cell_type": "code",
   "execution_count": 1,
   "id": "9cc4da4d",
   "metadata": {},
   "outputs": [],
   "source": [
    "import json\n",
    "import pandas as pd\n",
    "import numpy as np\n",
    "import seaborn as sns\n",
    "import mysql.connector"
   ]
  },
  {
   "cell_type": "code",
   "execution_count": 2,
   "id": "1489bc28",
   "metadata": {
    "scrolled": false
   },
   "outputs": [],
   "source": [
    "#load User Json\n",
    "\n",
    "with open(\"C:\\\\Users\\\\shric\\\\OneDrive - Worcester Polytechnic Institute (wpi.edu)\\\\Desktop\\\\DMDD_Assignment_3\\\\DMDD_Assignment_3\\\\JSON\\\\User.json\") as f:\n",
    "     data_User = json.load(f)"
   ]
  },
  {
   "cell_type": "code",
   "execution_count": 3,
   "id": "cb25ab62",
   "metadata": {},
   "outputs": [],
   "source": [
    "#load Category Json\n",
    "\n",
    "with open(\"C:\\\\Users\\\\shric\\\\OneDrive - Worcester Polytechnic Institute (wpi.edu)\\\\Desktop\\\\DMDD_Assignment_3\\\\DMDD_Assignment_3\\\\JSON\\\\Category.json\") as f:\n",
    "     data_Category = json.load(f)"
   ]
  },
  {
   "cell_type": "code",
   "execution_count": 4,
   "id": "30daaf9e",
   "metadata": {},
   "outputs": [],
   "source": [
    "#load Blocked User Json\n",
    "\n",
    "with open(\"C:\\\\Users\\\\shric\\\\OneDrive - Worcester Polytechnic Institute (wpi.edu)\\\\Desktop\\\\DMDD_Assignment_3\\\\DMDD_Assignment_3\\\\JSON\\\\Blocked User.json\") as f:\n",
    "     data_Blocked_User = json.load(f)"
   ]
  },
  {
   "cell_type": "code",
   "execution_count": 5,
   "id": "1479d2dc",
   "metadata": {},
   "outputs": [],
   "source": [
    "#load User Interest Category Json\n",
    "\n",
    "with open(\"C:\\\\Users\\\\shric\\\\OneDrive - Worcester Polytechnic Institute (wpi.edu)\\\\Desktop\\\\DMDD_Assignment_3\\\\DMDD_Assignment_3\\\\JSON\\\\User Interest Category.json\") as f:\n",
    "     data_User_Interest_Category = json.load(f)"
   ]
  },
  {
   "cell_type": "code",
   "execution_count": 6,
   "id": "09ec77b2",
   "metadata": {},
   "outputs": [],
   "source": [
    "#load Match Details Json\n",
    "\n",
    "with open(\"C:\\\\Users\\\\shric\\\\OneDrive - Worcester Polytechnic Institute (wpi.edu)\\\\Desktop\\\\DMDD_Assignment_3\\\\DMDD_Assignment_3\\\\JSON\\\\Match Details.json\") as f:\n",
    "     data_Match_Details = json.load(f)"
   ]
  },
  {
   "cell_type": "code",
   "execution_count": 7,
   "id": "f35366fc",
   "metadata": {},
   "outputs": [],
   "source": [
    "#load Conversation Json\n",
    "\n",
    "with open(\"C:\\\\Users\\\\shric\\\\OneDrive - Worcester Polytechnic Institute (wpi.edu)\\\\Desktop\\\\DMDD_Assignment_3\\\\DMDD_Assignment_3\\\\JSON\\\\Conversation.json\") as f:\n",
    "     data_Conversation = json.load(f)"
   ]
  },
  {
   "cell_type": "code",
   "execution_count": 8,
   "id": "ee8ab54d",
   "metadata": {},
   "outputs": [],
   "source": [
    "#load Group Details Json\n",
    "\n",
    "with open(\"C:\\\\Users\\\\shric\\\\OneDrive - Worcester Polytechnic Institute (wpi.edu)\\\\Desktop\\\\DMDD_Assignment_3\\\\DMDD_Assignment_3\\\\JSON\\\\Group Details.json\") as f:\n",
    "     data_Group_Details = json.load(f)"
   ]
  },
  {
   "cell_type": "code",
   "execution_count": 9,
   "id": "4e3d71ba",
   "metadata": {},
   "outputs": [],
   "source": [
    "#load Event Details Json\n",
    "\n",
    "with open(\"C:\\\\Users\\\\shric\\\\OneDrive - Worcester Polytechnic Institute (wpi.edu)\\\\Desktop\\\\DMDD_Assignment_3\\\\DMDD_Assignment_3\\\\JSON\\\\Event Details.json\") as f:\n",
    "     data_Event_Details = json.load(f)"
   ]
  },
  {
   "cell_type": "code",
   "execution_count": 10,
   "id": "7d41f01b",
   "metadata": {},
   "outputs": [],
   "source": [
    "#load User Events Json\n",
    "\n",
    "with open(\"C:\\\\Users\\\\shric\\\\OneDrive - Worcester Polytechnic Institute (wpi.edu)\\\\Desktop\\\\DMDD_Assignment_3\\\\DMDD_Assignment_3\\\\JSON\\\\User Events.json\") as f:\n",
    "     data_User_Events = json.load(f)"
   ]
  },
  {
   "cell_type": "code",
   "execution_count": 11,
   "id": "4be6c226",
   "metadata": {},
   "outputs": [
    {
     "data": {
      "text/plain": [
       "[{'name': 'Harshila',\n",
       "  'password': 'harshila@123',\n",
       "  'gender': 'Female',\n",
       "  'nickname': 'harshila',\n",
       "  'country': 'India',\n",
       "  'age': nan,\n",
       "  'Is_Deleted': 0,\n",
       "  'Is_Verified': 1,\n",
       "  'last_login': '2022-12-05 23:59:59',\n",
       "  'created_at': '2019-12-31 23:59:59'},\n",
       " {'name': 'Yash',\n",
       "  'password': 'yash@123',\n",
       "  'gender': 'Male',\n",
       "  'nickname': 'yash',\n",
       "  'country': 'India',\n",
       "  'age': nan,\n",
       "  'Is_Deleted': 0,\n",
       "  'Is_Verified': 1,\n",
       "  'last_login': '2022-11-05 23:59:59',\n",
       "  'created_at': '2019-11-31 23:59:59'},\n",
       " {'name': 'Disha',\n",
       "  'password': 'disha@123',\n",
       "  'gender': 'Female',\n",
       "  'nickname': 'disha',\n",
       "  'country': 'Australia',\n",
       "  'age': 21,\n",
       "  'Is_Deleted': 0,\n",
       "  'Is_Verified': 1,\n",
       "  'last_login': '2022-10-05 23:59:59',\n",
       "  'created_at': '2019-10-31 23:59:59'},\n",
       " {'name': 'Gauri',\n",
       "  'password': 'gauri@123',\n",
       "  'gender': 'Female',\n",
       "  'nickname': 'gauri',\n",
       "  'country': 'Australia',\n",
       "  'age': 22,\n",
       "  'Is_Deleted': 0,\n",
       "  'Is_Verified': 1,\n",
       "  'last_login': '2022-09-05 23:59:59',\n",
       "  'created_at': '2019-09-31 23:59:59'},\n",
       " {'name': 'Kalyani',\n",
       "  'password': 'kalyani@123',\n",
       "  'gender': 'Female',\n",
       "  'nickname': 'kalyani',\n",
       "  'country': 'Africa',\n",
       "  'age': 23,\n",
       "  'Is_Deleted': 0,\n",
       "  'Is_Verified': 1,\n",
       "  'last_login': '2022-08-05 23:59:59',\n",
       "  'created_at': '2019-08-31 23:59:59'},\n",
       " {'name': 'Komal',\n",
       "  'password': 'komal@123',\n",
       "  'gender': 'Female',\n",
       "  'nickname': 'komal',\n",
       "  'country': 'Nepal',\n",
       "  'age': 24,\n",
       "  'Is_Deleted': 0,\n",
       "  'Is_Verified': 1,\n",
       "  'last_login': '2022-07-05 23:59:59',\n",
       "  'created_at': '2019-07-31 23:59:59'},\n",
       " {'name': 'Swarag',\n",
       "  'password': 'swarag@123',\n",
       "  'gender': 'Male',\n",
       "  'nickname': 'swarag',\n",
       "  'country': 'USA',\n",
       "  'age': 26,\n",
       "  'Is_Deleted': 1,\n",
       "  'Is_Verified': 1,\n",
       "  'last_login': '2022-06-06 23:59:59',\n",
       "  'created_at': '2019-06-31 23:59:59'},\n",
       " {'name': 'Arpit',\n",
       "  'password': 'arpit@123',\n",
       "  'gender': 'Male',\n",
       "  'nickname': 'arpit',\n",
       "  'country': 'USA',\n",
       "  'age': 27,\n",
       "  'Is_Deleted': 0,\n",
       "  'Is_Verified': 1,\n",
       "  'last_login': '2022-12-06 23:59:59',\n",
       "  'created_at': '2019-06-31 23:59:59'},\n",
       " {'name': 'Nishank',\n",
       "  'password': 'nishank@123',\n",
       "  'gender': 'Male',\n",
       "  'nickname': 'nishank',\n",
       "  'country': 'USA',\n",
       "  'age': 27,\n",
       "  'Is_Deleted': 0,\n",
       "  'Is_Verified': 1,\n",
       "  'last_login': '2022-05-06 23:59:59',\n",
       "  'created_at': '2019-05-31 23:59:59'},\n",
       " {'name': 'Jatin',\n",
       "  'password': 'jatin@123',\n",
       "  'gender': 'Male',\n",
       "  'nickname': 'jatin',\n",
       "  'country': 'USA',\n",
       "  'age': 27,\n",
       "  'Is_Deleted': 0,\n",
       "  'Is_Verified': 1,\n",
       "  'last_login': '2022-04-06 23:59:59',\n",
       "  'created_at': '2019-04-31 23:59:59'},\n",
       " {'name': 'Rajat',\n",
       "  'password': 'rajat@123',\n",
       "  'gender': 'Male',\n",
       "  'nickname': 'rajat',\n",
       "  'country': 'USA',\n",
       "  'age': 47,\n",
       "  'Is_Deleted': 0,\n",
       "  'Is_Verified': 1,\n",
       "  'last_login': '2022-12-06 23:59:59',\n",
       "  'created_at': '2019-04-31 23:59:59'},\n",
       " {'name': 'Chakri',\n",
       "  'password': 'chakri@123',\n",
       "  'gender': 'Male',\n",
       "  'nickname': 'chakri',\n",
       "  'country': 'USA',\n",
       "  'age': 37,\n",
       "  'Is_Deleted': 0,\n",
       "  'Is_Verified': 1,\n",
       "  'last_login': '2022-12-01 23:59:59',\n",
       "  'created_at': '2019-03-31 23:59:59'},\n",
       " {'name': 'Anuja',\n",
       "  'password': 'anuja@123',\n",
       "  'gender': 'Female',\n",
       "  'nickname': 'anuja',\n",
       "  'country': 'India',\n",
       "  'age': 33,\n",
       "  'Is_Deleted': 0,\n",
       "  'Is_Verified': 0,\n",
       "  'last_login': '2022-09-01 23:59:59',\n",
       "  'created_at': '2019-03-31 23:59:59'},\n",
       " {'name': 'Rishabh',\n",
       "  'password': 'rishabh@123',\n",
       "  'gender': 'Male',\n",
       "  'nickname': 'rishabh',\n",
       "  'country': 'India',\n",
       "  'age': 30,\n",
       "  'Is_Deleted': 0,\n",
       "  'Is_Verified': 0,\n",
       "  'last_login': '2022-12-06 23:59:59',\n",
       "  'created_at': '2019-03-31 23:59:59'}]"
      ]
     },
     "execution_count": 11,
     "metadata": {},
     "output_type": "execute_result"
    }
   ],
   "source": [
    "#display loaded User Json\n",
    "\n",
    "data_User"
   ]
  },
  {
   "cell_type": "code",
   "execution_count": 12,
   "id": "901e3e6a",
   "metadata": {},
   "outputs": [
    {
     "data": {
      "text/plain": [
       "[{'name': 'Sport'},\n",
       " {'name': 'Food'},\n",
       " {'name': 'Basketball'},\n",
       " {'name': 'Football'},\n",
       " {'name': 'News'},\n",
       " {'name': 'Entertainment'},\n",
       " {'name': 'Technology'},\n",
       " {'name': 'Hiking'}]"
      ]
     },
     "execution_count": 12,
     "metadata": {},
     "output_type": "execute_result"
    }
   ],
   "source": [
    "#display loaded Category Json\n",
    "\n",
    "data_Category"
   ]
  },
  {
   "cell_type": "code",
   "execution_count": 13,
   "id": "28664fbc",
   "metadata": {},
   "outputs": [
    {
     "data": {
      "text/plain": [
       "[{'blocked_by': 1, 'blocked_whom': 2},\n",
       " {'blocked_by': 1, 'blocked_whom': 3},\n",
       " {'blocked_by': 2, 'blocked_whom': 6}]"
      ]
     },
     "execution_count": 13,
     "metadata": {},
     "output_type": "execute_result"
    }
   ],
   "source": [
    "#display Blocked User Json\n",
    "\n",
    "data_Blocked_User"
   ]
  },
  {
   "cell_type": "code",
   "execution_count": 14,
   "id": "83b64d89",
   "metadata": {},
   "outputs": [
    {
     "data": {
      "text/plain": [
       "[{'user_id': 1, 'category_id': 1},\n",
       " {'user_id': 1, 'category_id': 2},\n",
       " {'user_id': 2, 'category_id': 5},\n",
       " {'user_id': 3, 'category_id': 3},\n",
       " {'user_id': 4, 'category_id': 5},\n",
       " {'user_id': 6, 'category_id': 7},\n",
       " {'user_id': 7, 'category_id': 8},\n",
       " {'user_id': 8, 'category_id': 8},\n",
       " {'user_id': 9, 'category_id': 5},\n",
       " {'user_id': 10, 'category_id': 2}]"
      ]
     },
     "execution_count": 14,
     "metadata": {},
     "output_type": "execute_result"
    }
   ],
   "source": [
    "#display User Interest Category Json\n",
    "\n",
    "data_User_Interest_Category"
   ]
  },
  {
   "cell_type": "code",
   "execution_count": 15,
   "id": "17bc2175",
   "metadata": {},
   "outputs": [
    {
     "data": {
      "text/plain": [
       "[{'user1_id': 1,\n",
       "  'user2_id': 2,\n",
       "  'category_id': 1,\n",
       "  'match_time': '2022-12-09 20:59:59'},\n",
       " {'user1_id': 2,\n",
       "  'user2_id': 3,\n",
       "  'category_id': 2,\n",
       "  'match_time': '2022-09-06 23:59:59'},\n",
       " {'user1_id': 1,\n",
       "  'user2_id': 3,\n",
       "  'category_id': 3,\n",
       "  'match_time': '2022-12-09 20:59:59'},\n",
       " {'user1_id': 3,\n",
       "  'user2_id': 4,\n",
       "  'category_id': 4,\n",
       "  'match_time': '2022-12-08 23:59:59'},\n",
       " {'user1_id': 1,\n",
       "  'user2_id': 5,\n",
       "  'category_id': 5,\n",
       "  'match_time': '2022-11-07 23:59:59'}]"
      ]
     },
     "execution_count": 15,
     "metadata": {},
     "output_type": "execute_result"
    }
   ],
   "source": [
    "#display Match Json\n",
    "\n",
    "data_Match_Details"
   ]
  },
  {
   "cell_type": "code",
   "execution_count": 16,
   "id": "4a6e4bd9",
   "metadata": {},
   "outputs": [
    {
     "data": {
      "text/plain": [
       "[{'match_id': 1, 'message': 'Hello message'},\n",
       " {'match_id': 2, 'message': 'Thank you message'},\n",
       " {'match_id': 3, 'message': 'Test message'}]"
      ]
     },
     "execution_count": 16,
     "metadata": {},
     "output_type": "execute_result"
    }
   ],
   "source": [
    "#display Conversation Json\n",
    "\n",
    "data_Conversation"
   ]
  },
  {
   "cell_type": "code",
   "execution_count": 17,
   "id": "1be892c0",
   "metadata": {},
   "outputs": [
    {
     "data": {
      "text/plain": [
       "[{'group_name': 'Group 1', 'category_id': 1},\n",
       " {'group_name': 'Group 2', 'category_id': 2},\n",
       " {'group_name': 'Group 3', 'category_id': 3},\n",
       " {'group_name': 'Group 4', 'category_id': 4},\n",
       " {'group_name': 'Group 5', 'category_id': 5},\n",
       " {'group_name': 'Group 6', 'category_id': 6},\n",
       " {'group_name': 'Group 7', 'category_id': 7}]"
      ]
     },
     "execution_count": 17,
     "metadata": {},
     "output_type": "execute_result"
    }
   ],
   "source": [
    "#display Group Details Json\n",
    "\n",
    "data_Group_Details"
   ]
  },
  {
   "cell_type": "code",
   "execution_count": 18,
   "id": "cf7ad201",
   "metadata": {},
   "outputs": [
    {
     "data": {
      "text/plain": [
       "[{'group_id': 1, 'event_name': 'Event 1', 'event_date': '2022-12-05 23:59:59'},\n",
       " {'group_id': 2, 'event_name': 'Event 2', 'event_date': '2022-07-05 23:59:59'},\n",
       " {'group_id': 3, 'event_name': 'Event 2', 'event_date': '2022-08-05 23:59:59'},\n",
       " {'group_id': 4, 'event_name': 'Event 4', 'event_date': '2022-09-05 23:59:59'},\n",
       " {'group_id': 5, 'event_name': 'Event 5', 'event_date': '2022-12-05 23:59:59'}]"
      ]
     },
     "execution_count": 18,
     "metadata": {},
     "output_type": "execute_result"
    }
   ],
   "source": [
    "data_Event_Details"
   ]
  },
  {
   "cell_type": "code",
   "execution_count": 19,
   "id": "3a9b9efa",
   "metadata": {},
   "outputs": [
    {
     "data": {
      "text/plain": [
       "[{'event_id': 1, 'user_id': 1},\n",
       " {'event_id': 2, 'user_id': 5},\n",
       " {'event_id': 3, 'user_id': 4},\n",
       " {'event_id': 4, 'user_id': 2},\n",
       " {'event_id': 5, 'user_id': 1}]"
      ]
     },
     "execution_count": 19,
     "metadata": {},
     "output_type": "execute_result"
    }
   ],
   "source": [
    "data_User_Events"
   ]
  },
  {
   "cell_type": "code",
   "execution_count": 20,
   "id": "51e530dd",
   "metadata": {},
   "outputs": [],
   "source": [
    "# User DataFrame\n",
    "df_User = pd.DataFrame(columns=[\"Name\",\"Password\",\"Gender\", \"Nickname\", \"Country\", \"Age\", \"Is Deleted\", \"Is_Verified\", \"Last Login\", \"Created At\"])"
   ]
  },
  {
   "cell_type": "code",
   "execution_count": 21,
   "id": "10ca1a6e",
   "metadata": {},
   "outputs": [],
   "source": [
    "for i in range (0, len(data_User)):\n",
    "    currentItem = data_User[i]\n",
    "    df_User.loc[i] = [data_User[i][\"name\"], data_User[i][\"password\"], data_User[i][\"gender\"], data_User[i][\"nickname\"], data_User[i][\"country\"], data_User[i][\"age\"], data_User[i][\"Is_Deleted\"], data_User[i][\"Is_Verified\"], data_User[i][\"last_login\"], data_User[i][\"created_at\"]]"
   ]
  },
  {
   "cell_type": "code",
   "execution_count": 22,
   "id": "ad5eb450",
   "metadata": {},
   "outputs": [
    {
     "data": {
      "text/html": [
       "<div>\n",
       "<style scoped>\n",
       "    .dataframe tbody tr th:only-of-type {\n",
       "        vertical-align: middle;\n",
       "    }\n",
       "\n",
       "    .dataframe tbody tr th {\n",
       "        vertical-align: top;\n",
       "    }\n",
       "\n",
       "    .dataframe thead th {\n",
       "        text-align: right;\n",
       "    }\n",
       "</style>\n",
       "<table border=\"1\" class=\"dataframe\">\n",
       "  <thead>\n",
       "    <tr style=\"text-align: right;\">\n",
       "      <th></th>\n",
       "      <th>Name</th>\n",
       "      <th>Password</th>\n",
       "      <th>Gender</th>\n",
       "      <th>Nickname</th>\n",
       "      <th>Country</th>\n",
       "      <th>Age</th>\n",
       "      <th>Is Deleted</th>\n",
       "      <th>Is_Verified</th>\n",
       "      <th>Last Login</th>\n",
       "      <th>Created At</th>\n",
       "    </tr>\n",
       "  </thead>\n",
       "  <tbody>\n",
       "    <tr>\n",
       "      <th>0</th>\n",
       "      <td>Harshila</td>\n",
       "      <td>harshila@123</td>\n",
       "      <td>Female</td>\n",
       "      <td>harshila</td>\n",
       "      <td>India</td>\n",
       "      <td>NaN</td>\n",
       "      <td>0</td>\n",
       "      <td>1</td>\n",
       "      <td>2022-12-05 23:59:59</td>\n",
       "      <td>2019-12-31 23:59:59</td>\n",
       "    </tr>\n",
       "    <tr>\n",
       "      <th>1</th>\n",
       "      <td>Yash</td>\n",
       "      <td>yash@123</td>\n",
       "      <td>Male</td>\n",
       "      <td>yash</td>\n",
       "      <td>India</td>\n",
       "      <td>NaN</td>\n",
       "      <td>0</td>\n",
       "      <td>1</td>\n",
       "      <td>2022-11-05 23:59:59</td>\n",
       "      <td>2019-11-31 23:59:59</td>\n",
       "    </tr>\n",
       "    <tr>\n",
       "      <th>2</th>\n",
       "      <td>Disha</td>\n",
       "      <td>disha@123</td>\n",
       "      <td>Female</td>\n",
       "      <td>disha</td>\n",
       "      <td>Australia</td>\n",
       "      <td>21.0</td>\n",
       "      <td>0</td>\n",
       "      <td>1</td>\n",
       "      <td>2022-10-05 23:59:59</td>\n",
       "      <td>2019-10-31 23:59:59</td>\n",
       "    </tr>\n",
       "    <tr>\n",
       "      <th>3</th>\n",
       "      <td>Gauri</td>\n",
       "      <td>gauri@123</td>\n",
       "      <td>Female</td>\n",
       "      <td>gauri</td>\n",
       "      <td>Australia</td>\n",
       "      <td>22.0</td>\n",
       "      <td>0</td>\n",
       "      <td>1</td>\n",
       "      <td>2022-09-05 23:59:59</td>\n",
       "      <td>2019-09-31 23:59:59</td>\n",
       "    </tr>\n",
       "    <tr>\n",
       "      <th>4</th>\n",
       "      <td>Kalyani</td>\n",
       "      <td>kalyani@123</td>\n",
       "      <td>Female</td>\n",
       "      <td>kalyani</td>\n",
       "      <td>Africa</td>\n",
       "      <td>23.0</td>\n",
       "      <td>0</td>\n",
       "      <td>1</td>\n",
       "      <td>2022-08-05 23:59:59</td>\n",
       "      <td>2019-08-31 23:59:59</td>\n",
       "    </tr>\n",
       "    <tr>\n",
       "      <th>5</th>\n",
       "      <td>Komal</td>\n",
       "      <td>komal@123</td>\n",
       "      <td>Female</td>\n",
       "      <td>komal</td>\n",
       "      <td>Nepal</td>\n",
       "      <td>24.0</td>\n",
       "      <td>0</td>\n",
       "      <td>1</td>\n",
       "      <td>2022-07-05 23:59:59</td>\n",
       "      <td>2019-07-31 23:59:59</td>\n",
       "    </tr>\n",
       "    <tr>\n",
       "      <th>6</th>\n",
       "      <td>Swarag</td>\n",
       "      <td>swarag@123</td>\n",
       "      <td>Male</td>\n",
       "      <td>swarag</td>\n",
       "      <td>USA</td>\n",
       "      <td>26.0</td>\n",
       "      <td>1</td>\n",
       "      <td>1</td>\n",
       "      <td>2022-06-06 23:59:59</td>\n",
       "      <td>2019-06-31 23:59:59</td>\n",
       "    </tr>\n",
       "    <tr>\n",
       "      <th>7</th>\n",
       "      <td>Arpit</td>\n",
       "      <td>arpit@123</td>\n",
       "      <td>Male</td>\n",
       "      <td>arpit</td>\n",
       "      <td>USA</td>\n",
       "      <td>27.0</td>\n",
       "      <td>0</td>\n",
       "      <td>1</td>\n",
       "      <td>2022-12-06 23:59:59</td>\n",
       "      <td>2019-06-31 23:59:59</td>\n",
       "    </tr>\n",
       "    <tr>\n",
       "      <th>8</th>\n",
       "      <td>Nishank</td>\n",
       "      <td>nishank@123</td>\n",
       "      <td>Male</td>\n",
       "      <td>nishank</td>\n",
       "      <td>USA</td>\n",
       "      <td>27.0</td>\n",
       "      <td>0</td>\n",
       "      <td>1</td>\n",
       "      <td>2022-05-06 23:59:59</td>\n",
       "      <td>2019-05-31 23:59:59</td>\n",
       "    </tr>\n",
       "    <tr>\n",
       "      <th>9</th>\n",
       "      <td>Jatin</td>\n",
       "      <td>jatin@123</td>\n",
       "      <td>Male</td>\n",
       "      <td>jatin</td>\n",
       "      <td>USA</td>\n",
       "      <td>27.0</td>\n",
       "      <td>0</td>\n",
       "      <td>1</td>\n",
       "      <td>2022-04-06 23:59:59</td>\n",
       "      <td>2019-04-31 23:59:59</td>\n",
       "    </tr>\n",
       "    <tr>\n",
       "      <th>10</th>\n",
       "      <td>Rajat</td>\n",
       "      <td>rajat@123</td>\n",
       "      <td>Male</td>\n",
       "      <td>rajat</td>\n",
       "      <td>USA</td>\n",
       "      <td>47.0</td>\n",
       "      <td>0</td>\n",
       "      <td>1</td>\n",
       "      <td>2022-12-06 23:59:59</td>\n",
       "      <td>2019-04-31 23:59:59</td>\n",
       "    </tr>\n",
       "    <tr>\n",
       "      <th>11</th>\n",
       "      <td>Chakri</td>\n",
       "      <td>chakri@123</td>\n",
       "      <td>Male</td>\n",
       "      <td>chakri</td>\n",
       "      <td>USA</td>\n",
       "      <td>37.0</td>\n",
       "      <td>0</td>\n",
       "      <td>1</td>\n",
       "      <td>2022-12-01 23:59:59</td>\n",
       "      <td>2019-03-31 23:59:59</td>\n",
       "    </tr>\n",
       "    <tr>\n",
       "      <th>12</th>\n",
       "      <td>Anuja</td>\n",
       "      <td>anuja@123</td>\n",
       "      <td>Female</td>\n",
       "      <td>anuja</td>\n",
       "      <td>India</td>\n",
       "      <td>33.0</td>\n",
       "      <td>0</td>\n",
       "      <td>0</td>\n",
       "      <td>2022-09-01 23:59:59</td>\n",
       "      <td>2019-03-31 23:59:59</td>\n",
       "    </tr>\n",
       "    <tr>\n",
       "      <th>13</th>\n",
       "      <td>Rishabh</td>\n",
       "      <td>rishabh@123</td>\n",
       "      <td>Male</td>\n",
       "      <td>rishabh</td>\n",
       "      <td>India</td>\n",
       "      <td>30.0</td>\n",
       "      <td>0</td>\n",
       "      <td>0</td>\n",
       "      <td>2022-12-06 23:59:59</td>\n",
       "      <td>2019-03-31 23:59:59</td>\n",
       "    </tr>\n",
       "  </tbody>\n",
       "</table>\n",
       "</div>"
      ],
      "text/plain": [
       "        Name      Password  Gender  Nickname    Country   Age  Is Deleted  \\\n",
       "0   Harshila  harshila@123  Female  harshila      India   NaN           0   \n",
       "1       Yash      yash@123    Male      yash      India   NaN           0   \n",
       "2      Disha     disha@123  Female     disha  Australia  21.0           0   \n",
       "3      Gauri     gauri@123  Female     gauri  Australia  22.0           0   \n",
       "4    Kalyani   kalyani@123  Female   kalyani     Africa  23.0           0   \n",
       "5      Komal     komal@123  Female     komal      Nepal  24.0           0   \n",
       "6     Swarag    swarag@123    Male    swarag        USA  26.0           1   \n",
       "7      Arpit     arpit@123    Male     arpit        USA  27.0           0   \n",
       "8    Nishank   nishank@123    Male   nishank        USA  27.0           0   \n",
       "9      Jatin     jatin@123    Male     jatin        USA  27.0           0   \n",
       "10     Rajat     rajat@123    Male     rajat        USA  47.0           0   \n",
       "11    Chakri    chakri@123    Male    chakri        USA  37.0           0   \n",
       "12     Anuja     anuja@123  Female     anuja      India  33.0           0   \n",
       "13   Rishabh   rishabh@123    Male   rishabh      India  30.0           0   \n",
       "\n",
       "    Is_Verified           Last Login           Created At  \n",
       "0             1  2022-12-05 23:59:59  2019-12-31 23:59:59  \n",
       "1             1  2022-11-05 23:59:59  2019-11-31 23:59:59  \n",
       "2             1  2022-10-05 23:59:59  2019-10-31 23:59:59  \n",
       "3             1  2022-09-05 23:59:59  2019-09-31 23:59:59  \n",
       "4             1  2022-08-05 23:59:59  2019-08-31 23:59:59  \n",
       "5             1  2022-07-05 23:59:59  2019-07-31 23:59:59  \n",
       "6             1  2022-06-06 23:59:59  2019-06-31 23:59:59  \n",
       "7             1  2022-12-06 23:59:59  2019-06-31 23:59:59  \n",
       "8             1  2022-05-06 23:59:59  2019-05-31 23:59:59  \n",
       "9             1  2022-04-06 23:59:59  2019-04-31 23:59:59  \n",
       "10            1  2022-12-06 23:59:59  2019-04-31 23:59:59  \n",
       "11            1  2022-12-01 23:59:59  2019-03-31 23:59:59  \n",
       "12            0  2022-09-01 23:59:59  2019-03-31 23:59:59  \n",
       "13            0  2022-12-06 23:59:59  2019-03-31 23:59:59  "
      ]
     },
     "execution_count": 22,
     "metadata": {},
     "output_type": "execute_result"
    }
   ],
   "source": [
    "df_User"
   ]
  },
  {
   "cell_type": "code",
   "execution_count": 23,
   "id": "f31da0e1",
   "metadata": {},
   "outputs": [],
   "source": [
    "# Category DataFrame\n",
    "\n",
    "df_Category = pd.DataFrame(columns=[\"Name\"])"
   ]
  },
  {
   "cell_type": "code",
   "execution_count": 24,
   "id": "5e96586d",
   "metadata": {},
   "outputs": [],
   "source": [
    "for i in range (0, len(data_Category)):\n",
    "    currentItem = data_Category[i]\n",
    "    df_Category.loc[i] = [data_Category[i][\"name\"]]"
   ]
  },
  {
   "cell_type": "code",
   "execution_count": 25,
   "id": "cc169282",
   "metadata": {},
   "outputs": [
    {
     "data": {
      "text/html": [
       "<div>\n",
       "<style scoped>\n",
       "    .dataframe tbody tr th:only-of-type {\n",
       "        vertical-align: middle;\n",
       "    }\n",
       "\n",
       "    .dataframe tbody tr th {\n",
       "        vertical-align: top;\n",
       "    }\n",
       "\n",
       "    .dataframe thead th {\n",
       "        text-align: right;\n",
       "    }\n",
       "</style>\n",
       "<table border=\"1\" class=\"dataframe\">\n",
       "  <thead>\n",
       "    <tr style=\"text-align: right;\">\n",
       "      <th></th>\n",
       "      <th>Name</th>\n",
       "    </tr>\n",
       "  </thead>\n",
       "  <tbody>\n",
       "    <tr>\n",
       "      <th>0</th>\n",
       "      <td>Sport</td>\n",
       "    </tr>\n",
       "    <tr>\n",
       "      <th>1</th>\n",
       "      <td>Food</td>\n",
       "    </tr>\n",
       "    <tr>\n",
       "      <th>2</th>\n",
       "      <td>Basketball</td>\n",
       "    </tr>\n",
       "    <tr>\n",
       "      <th>3</th>\n",
       "      <td>Football</td>\n",
       "    </tr>\n",
       "    <tr>\n",
       "      <th>4</th>\n",
       "      <td>News</td>\n",
       "    </tr>\n",
       "    <tr>\n",
       "      <th>5</th>\n",
       "      <td>Entertainment</td>\n",
       "    </tr>\n",
       "    <tr>\n",
       "      <th>6</th>\n",
       "      <td>Technology</td>\n",
       "    </tr>\n",
       "    <tr>\n",
       "      <th>7</th>\n",
       "      <td>Hiking</td>\n",
       "    </tr>\n",
       "  </tbody>\n",
       "</table>\n",
       "</div>"
      ],
      "text/plain": [
       "            Name\n",
       "0          Sport\n",
       "1           Food\n",
       "2     Basketball\n",
       "3       Football\n",
       "4           News\n",
       "5  Entertainment\n",
       "6     Technology\n",
       "7         Hiking"
      ]
     },
     "execution_count": 25,
     "metadata": {},
     "output_type": "execute_result"
    }
   ],
   "source": [
    "df_Category"
   ]
  },
  {
   "cell_type": "code",
   "execution_count": 26,
   "id": "98f3214a",
   "metadata": {},
   "outputs": [],
   "source": [
    "# Blocked User DataFrame\n",
    "\n",
    "df_Blocked_User = pd.DataFrame(columns=[\"Blocked By\", \"Blocked Whom\"])"
   ]
  },
  {
   "cell_type": "code",
   "execution_count": 27,
   "id": "8e11f1ad",
   "metadata": {},
   "outputs": [],
   "source": [
    "for i in range (0, len(data_Blocked_User)):\n",
    "    currentItem = data_Blocked_User[i]\n",
    "    df_Blocked_User.loc[i] = [data_Blocked_User[i][\"blocked_by\"], data_Blocked_User[i][\"blocked_whom\"]]"
   ]
  },
  {
   "cell_type": "code",
   "execution_count": 28,
   "id": "40b09b53",
   "metadata": {},
   "outputs": [
    {
     "data": {
      "text/html": [
       "<div>\n",
       "<style scoped>\n",
       "    .dataframe tbody tr th:only-of-type {\n",
       "        vertical-align: middle;\n",
       "    }\n",
       "\n",
       "    .dataframe tbody tr th {\n",
       "        vertical-align: top;\n",
       "    }\n",
       "\n",
       "    .dataframe thead th {\n",
       "        text-align: right;\n",
       "    }\n",
       "</style>\n",
       "<table border=\"1\" class=\"dataframe\">\n",
       "  <thead>\n",
       "    <tr style=\"text-align: right;\">\n",
       "      <th></th>\n",
       "      <th>Blocked By</th>\n",
       "      <th>Blocked Whom</th>\n",
       "    </tr>\n",
       "  </thead>\n",
       "  <tbody>\n",
       "    <tr>\n",
       "      <th>0</th>\n",
       "      <td>1</td>\n",
       "      <td>2</td>\n",
       "    </tr>\n",
       "    <tr>\n",
       "      <th>1</th>\n",
       "      <td>1</td>\n",
       "      <td>3</td>\n",
       "    </tr>\n",
       "    <tr>\n",
       "      <th>2</th>\n",
       "      <td>2</td>\n",
       "      <td>6</td>\n",
       "    </tr>\n",
       "  </tbody>\n",
       "</table>\n",
       "</div>"
      ],
      "text/plain": [
       "   Blocked By  Blocked Whom\n",
       "0           1             2\n",
       "1           1             3\n",
       "2           2             6"
      ]
     },
     "execution_count": 28,
     "metadata": {},
     "output_type": "execute_result"
    }
   ],
   "source": [
    "df_Blocked_User"
   ]
  },
  {
   "cell_type": "code",
   "execution_count": 29,
   "id": "bec20dcd",
   "metadata": {},
   "outputs": [],
   "source": [
    "# User Interest Category DataFrame\n",
    "\n",
    "df_User_Interest_Category = pd.DataFrame(columns=[\"User ID\", \"Category ID\"])"
   ]
  },
  {
   "cell_type": "code",
   "execution_count": 30,
   "id": "aad69395",
   "metadata": {},
   "outputs": [],
   "source": [
    "for i in range (0, len(data_User_Interest_Category)):\n",
    "    currentItem = data_User_Interest_Category[i]\n",
    "    df_User_Interest_Category.loc[i] = [data_User_Interest_Category[i][\"user_id\"], data_User_Interest_Category[i][\"category_id\"]]"
   ]
  },
  {
   "cell_type": "code",
   "execution_count": 31,
   "id": "9e93e666",
   "metadata": {},
   "outputs": [
    {
     "data": {
      "text/html": [
       "<div>\n",
       "<style scoped>\n",
       "    .dataframe tbody tr th:only-of-type {\n",
       "        vertical-align: middle;\n",
       "    }\n",
       "\n",
       "    .dataframe tbody tr th {\n",
       "        vertical-align: top;\n",
       "    }\n",
       "\n",
       "    .dataframe thead th {\n",
       "        text-align: right;\n",
       "    }\n",
       "</style>\n",
       "<table border=\"1\" class=\"dataframe\">\n",
       "  <thead>\n",
       "    <tr style=\"text-align: right;\">\n",
       "      <th></th>\n",
       "      <th>User ID</th>\n",
       "      <th>Category ID</th>\n",
       "    </tr>\n",
       "  </thead>\n",
       "  <tbody>\n",
       "    <tr>\n",
       "      <th>0</th>\n",
       "      <td>1</td>\n",
       "      <td>1</td>\n",
       "    </tr>\n",
       "    <tr>\n",
       "      <th>1</th>\n",
       "      <td>1</td>\n",
       "      <td>2</td>\n",
       "    </tr>\n",
       "    <tr>\n",
       "      <th>2</th>\n",
       "      <td>2</td>\n",
       "      <td>5</td>\n",
       "    </tr>\n",
       "    <tr>\n",
       "      <th>3</th>\n",
       "      <td>3</td>\n",
       "      <td>3</td>\n",
       "    </tr>\n",
       "    <tr>\n",
       "      <th>4</th>\n",
       "      <td>4</td>\n",
       "      <td>5</td>\n",
       "    </tr>\n",
       "    <tr>\n",
       "      <th>5</th>\n",
       "      <td>6</td>\n",
       "      <td>7</td>\n",
       "    </tr>\n",
       "    <tr>\n",
       "      <th>6</th>\n",
       "      <td>7</td>\n",
       "      <td>8</td>\n",
       "    </tr>\n",
       "    <tr>\n",
       "      <th>7</th>\n",
       "      <td>8</td>\n",
       "      <td>8</td>\n",
       "    </tr>\n",
       "    <tr>\n",
       "      <th>8</th>\n",
       "      <td>9</td>\n",
       "      <td>5</td>\n",
       "    </tr>\n",
       "    <tr>\n",
       "      <th>9</th>\n",
       "      <td>10</td>\n",
       "      <td>2</td>\n",
       "    </tr>\n",
       "  </tbody>\n",
       "</table>\n",
       "</div>"
      ],
      "text/plain": [
       "   User ID  Category ID\n",
       "0        1            1\n",
       "1        1            2\n",
       "2        2            5\n",
       "3        3            3\n",
       "4        4            5\n",
       "5        6            7\n",
       "6        7            8\n",
       "7        8            8\n",
       "8        9            5\n",
       "9       10            2"
      ]
     },
     "execution_count": 31,
     "metadata": {},
     "output_type": "execute_result"
    }
   ],
   "source": [
    "df_User_Interest_Category"
   ]
  },
  {
   "cell_type": "code",
   "execution_count": 32,
   "id": "5830495d",
   "metadata": {},
   "outputs": [],
   "source": [
    "# Match Details DataFrame\n",
    "\n",
    "df_Match_Details = pd.DataFrame(columns=[\"User1 ID\", \"User2 ID\", \"Category ID\", \"Match Time\"])"
   ]
  },
  {
   "cell_type": "code",
   "execution_count": 33,
   "id": "b0e6e9ab",
   "metadata": {},
   "outputs": [],
   "source": [
    "for i in range (0, len(data_Match_Details)):\n",
    "    currentItem = data_Match_Details[i]\n",
    "    df_Match_Details.loc[i] = [data_Match_Details[i][\"user1_id\"], data_Match_Details[i][\"user2_id\"], data_Match_Details[i][\"category_id\"], data_Match_Details[i][\"match_time\"]]"
   ]
  },
  {
   "cell_type": "code",
   "execution_count": 34,
   "id": "1c7c61d7",
   "metadata": {},
   "outputs": [
    {
     "data": {
      "text/html": [
       "<div>\n",
       "<style scoped>\n",
       "    .dataframe tbody tr th:only-of-type {\n",
       "        vertical-align: middle;\n",
       "    }\n",
       "\n",
       "    .dataframe tbody tr th {\n",
       "        vertical-align: top;\n",
       "    }\n",
       "\n",
       "    .dataframe thead th {\n",
       "        text-align: right;\n",
       "    }\n",
       "</style>\n",
       "<table border=\"1\" class=\"dataframe\">\n",
       "  <thead>\n",
       "    <tr style=\"text-align: right;\">\n",
       "      <th></th>\n",
       "      <th>User1 ID</th>\n",
       "      <th>User2 ID</th>\n",
       "      <th>Category ID</th>\n",
       "      <th>Match Time</th>\n",
       "    </tr>\n",
       "  </thead>\n",
       "  <tbody>\n",
       "    <tr>\n",
       "      <th>0</th>\n",
       "      <td>1</td>\n",
       "      <td>2</td>\n",
       "      <td>1</td>\n",
       "      <td>2022-12-09 20:59:59</td>\n",
       "    </tr>\n",
       "    <tr>\n",
       "      <th>1</th>\n",
       "      <td>2</td>\n",
       "      <td>3</td>\n",
       "      <td>2</td>\n",
       "      <td>2022-09-06 23:59:59</td>\n",
       "    </tr>\n",
       "    <tr>\n",
       "      <th>2</th>\n",
       "      <td>1</td>\n",
       "      <td>3</td>\n",
       "      <td>3</td>\n",
       "      <td>2022-12-09 20:59:59</td>\n",
       "    </tr>\n",
       "    <tr>\n",
       "      <th>3</th>\n",
       "      <td>3</td>\n",
       "      <td>4</td>\n",
       "      <td>4</td>\n",
       "      <td>2022-12-08 23:59:59</td>\n",
       "    </tr>\n",
       "    <tr>\n",
       "      <th>4</th>\n",
       "      <td>1</td>\n",
       "      <td>5</td>\n",
       "      <td>5</td>\n",
       "      <td>2022-11-07 23:59:59</td>\n",
       "    </tr>\n",
       "  </tbody>\n",
       "</table>\n",
       "</div>"
      ],
      "text/plain": [
       "   User1 ID  User2 ID  Category ID           Match Time\n",
       "0         1         2            1  2022-12-09 20:59:59\n",
       "1         2         3            2  2022-09-06 23:59:59\n",
       "2         1         3            3  2022-12-09 20:59:59\n",
       "3         3         4            4  2022-12-08 23:59:59\n",
       "4         1         5            5  2022-11-07 23:59:59"
      ]
     },
     "execution_count": 34,
     "metadata": {},
     "output_type": "execute_result"
    }
   ],
   "source": [
    "df_Match_Details"
   ]
  },
  {
   "cell_type": "code",
   "execution_count": 35,
   "id": "67033e27",
   "metadata": {},
   "outputs": [],
   "source": [
    "# Conversation DataFrame\n",
    "\n",
    "df_Conversation = pd.DataFrame(columns=[\"Match ID\", \"Message\"])"
   ]
  },
  {
   "cell_type": "code",
   "execution_count": 36,
   "id": "651468ef",
   "metadata": {},
   "outputs": [],
   "source": [
    "for i in range (0, len(data_Conversation)):\n",
    "    currentItem = data_Conversation[i]\n",
    "    df_Conversation.loc[i] = [data_Conversation[i][\"match_id\"], data_Conversation[i][\"message\"]]"
   ]
  },
  {
   "cell_type": "code",
   "execution_count": 37,
   "id": "d2cc91de",
   "metadata": {},
   "outputs": [
    {
     "data": {
      "text/html": [
       "<div>\n",
       "<style scoped>\n",
       "    .dataframe tbody tr th:only-of-type {\n",
       "        vertical-align: middle;\n",
       "    }\n",
       "\n",
       "    .dataframe tbody tr th {\n",
       "        vertical-align: top;\n",
       "    }\n",
       "\n",
       "    .dataframe thead th {\n",
       "        text-align: right;\n",
       "    }\n",
       "</style>\n",
       "<table border=\"1\" class=\"dataframe\">\n",
       "  <thead>\n",
       "    <tr style=\"text-align: right;\">\n",
       "      <th></th>\n",
       "      <th>Match ID</th>\n",
       "      <th>Message</th>\n",
       "    </tr>\n",
       "  </thead>\n",
       "  <tbody>\n",
       "    <tr>\n",
       "      <th>0</th>\n",
       "      <td>1</td>\n",
       "      <td>Hello message</td>\n",
       "    </tr>\n",
       "    <tr>\n",
       "      <th>1</th>\n",
       "      <td>2</td>\n",
       "      <td>Thank you message</td>\n",
       "    </tr>\n",
       "    <tr>\n",
       "      <th>2</th>\n",
       "      <td>3</td>\n",
       "      <td>Test message</td>\n",
       "    </tr>\n",
       "  </tbody>\n",
       "</table>\n",
       "</div>"
      ],
      "text/plain": [
       "   Match ID            Message\n",
       "0         1      Hello message\n",
       "1         2  Thank you message\n",
       "2         3       Test message"
      ]
     },
     "execution_count": 37,
     "metadata": {},
     "output_type": "execute_result"
    }
   ],
   "source": [
    "df_Conversation"
   ]
  },
  {
   "cell_type": "code",
   "execution_count": 38,
   "id": "c75fc73f",
   "metadata": {},
   "outputs": [],
   "source": [
    "# Group Details DataFrame\n",
    "\n",
    "df_Group_Details = pd.DataFrame(columns=[\"Category ID\", \"Group Name\"])"
   ]
  },
  {
   "cell_type": "code",
   "execution_count": 39,
   "id": "2b70bace",
   "metadata": {},
   "outputs": [],
   "source": [
    "for i in range (0, len(data_Group_Details)):\n",
    "    currentItem = data_Group_Details[i]\n",
    "    df_Group_Details.loc[i] = [data_Group_Details[i][\"category_id\"], data_Group_Details[i][\"group_name\"]]"
   ]
  },
  {
   "cell_type": "code",
   "execution_count": 40,
   "id": "6eb768a2",
   "metadata": {},
   "outputs": [
    {
     "data": {
      "text/html": [
       "<div>\n",
       "<style scoped>\n",
       "    .dataframe tbody tr th:only-of-type {\n",
       "        vertical-align: middle;\n",
       "    }\n",
       "\n",
       "    .dataframe tbody tr th {\n",
       "        vertical-align: top;\n",
       "    }\n",
       "\n",
       "    .dataframe thead th {\n",
       "        text-align: right;\n",
       "    }\n",
       "</style>\n",
       "<table border=\"1\" class=\"dataframe\">\n",
       "  <thead>\n",
       "    <tr style=\"text-align: right;\">\n",
       "      <th></th>\n",
       "      <th>Category ID</th>\n",
       "      <th>Group Name</th>\n",
       "    </tr>\n",
       "  </thead>\n",
       "  <tbody>\n",
       "    <tr>\n",
       "      <th>0</th>\n",
       "      <td>1</td>\n",
       "      <td>Group 1</td>\n",
       "    </tr>\n",
       "    <tr>\n",
       "      <th>1</th>\n",
       "      <td>2</td>\n",
       "      <td>Group 2</td>\n",
       "    </tr>\n",
       "    <tr>\n",
       "      <th>2</th>\n",
       "      <td>3</td>\n",
       "      <td>Group 3</td>\n",
       "    </tr>\n",
       "    <tr>\n",
       "      <th>3</th>\n",
       "      <td>4</td>\n",
       "      <td>Group 4</td>\n",
       "    </tr>\n",
       "    <tr>\n",
       "      <th>4</th>\n",
       "      <td>5</td>\n",
       "      <td>Group 5</td>\n",
       "    </tr>\n",
       "    <tr>\n",
       "      <th>5</th>\n",
       "      <td>6</td>\n",
       "      <td>Group 6</td>\n",
       "    </tr>\n",
       "    <tr>\n",
       "      <th>6</th>\n",
       "      <td>7</td>\n",
       "      <td>Group 7</td>\n",
       "    </tr>\n",
       "  </tbody>\n",
       "</table>\n",
       "</div>"
      ],
      "text/plain": [
       "   Category ID Group Name\n",
       "0            1    Group 1\n",
       "1            2    Group 2\n",
       "2            3    Group 3\n",
       "3            4    Group 4\n",
       "4            5    Group 5\n",
       "5            6    Group 6\n",
       "6            7    Group 7"
      ]
     },
     "execution_count": 40,
     "metadata": {},
     "output_type": "execute_result"
    }
   ],
   "source": [
    "df_Group_Details"
   ]
  },
  {
   "cell_type": "code",
   "execution_count": 41,
   "id": "4e707255",
   "metadata": {},
   "outputs": [],
   "source": [
    "# Event Details DataFrame\n",
    "\n",
    "df_Event_Details = pd.DataFrame(columns=[\"Group ID\", \"Event Name\", \"Event Date\"])"
   ]
  },
  {
   "cell_type": "code",
   "execution_count": 42,
   "id": "f1728b11",
   "metadata": {},
   "outputs": [],
   "source": [
    "for i in range (0, len(data_Event_Details)):\n",
    "    currentItem = data_Event_Details[i]\n",
    "    df_Event_Details.loc[i] = [data_Event_Details[i][\"group_id\"], data_Event_Details[i][\"event_name\"], data_Event_Details[i][\"event_date\"]]"
   ]
  },
  {
   "cell_type": "code",
   "execution_count": 43,
   "id": "8b1c9b12",
   "metadata": {},
   "outputs": [
    {
     "data": {
      "text/html": [
       "<div>\n",
       "<style scoped>\n",
       "    .dataframe tbody tr th:only-of-type {\n",
       "        vertical-align: middle;\n",
       "    }\n",
       "\n",
       "    .dataframe tbody tr th {\n",
       "        vertical-align: top;\n",
       "    }\n",
       "\n",
       "    .dataframe thead th {\n",
       "        text-align: right;\n",
       "    }\n",
       "</style>\n",
       "<table border=\"1\" class=\"dataframe\">\n",
       "  <thead>\n",
       "    <tr style=\"text-align: right;\">\n",
       "      <th></th>\n",
       "      <th>Group ID</th>\n",
       "      <th>Event Name</th>\n",
       "      <th>Event Date</th>\n",
       "    </tr>\n",
       "  </thead>\n",
       "  <tbody>\n",
       "    <tr>\n",
       "      <th>0</th>\n",
       "      <td>1</td>\n",
       "      <td>Event 1</td>\n",
       "      <td>2022-12-05 23:59:59</td>\n",
       "    </tr>\n",
       "    <tr>\n",
       "      <th>1</th>\n",
       "      <td>2</td>\n",
       "      <td>Event 2</td>\n",
       "      <td>2022-07-05 23:59:59</td>\n",
       "    </tr>\n",
       "    <tr>\n",
       "      <th>2</th>\n",
       "      <td>3</td>\n",
       "      <td>Event 2</td>\n",
       "      <td>2022-08-05 23:59:59</td>\n",
       "    </tr>\n",
       "    <tr>\n",
       "      <th>3</th>\n",
       "      <td>4</td>\n",
       "      <td>Event 4</td>\n",
       "      <td>2022-09-05 23:59:59</td>\n",
       "    </tr>\n",
       "    <tr>\n",
       "      <th>4</th>\n",
       "      <td>5</td>\n",
       "      <td>Event 5</td>\n",
       "      <td>2022-12-05 23:59:59</td>\n",
       "    </tr>\n",
       "  </tbody>\n",
       "</table>\n",
       "</div>"
      ],
      "text/plain": [
       "   Group ID Event Name           Event Date\n",
       "0         1    Event 1  2022-12-05 23:59:59\n",
       "1         2    Event 2  2022-07-05 23:59:59\n",
       "2         3    Event 2  2022-08-05 23:59:59\n",
       "3         4    Event 4  2022-09-05 23:59:59\n",
       "4         5    Event 5  2022-12-05 23:59:59"
      ]
     },
     "execution_count": 43,
     "metadata": {},
     "output_type": "execute_result"
    }
   ],
   "source": [
    "df_Event_Details"
   ]
  },
  {
   "cell_type": "code",
   "execution_count": 44,
   "id": "c3f2e420",
   "metadata": {},
   "outputs": [],
   "source": [
    "# User Events DataFrame\n",
    "\n",
    "df_User_Events = pd.DataFrame(columns=[\"Event ID\", \"User ID\"])"
   ]
  },
  {
   "cell_type": "code",
   "execution_count": 45,
   "id": "46c11489",
   "metadata": {},
   "outputs": [],
   "source": [
    "for i in range (0, len(data_User_Events)):\n",
    "    currentItem = data_User_Events[i]\n",
    "    df_User_Events.loc[i] = [data_User_Events[i][\"event_id\"], data_User_Events[i][\"user_id\"]]"
   ]
  },
  {
   "cell_type": "code",
   "execution_count": 46,
   "id": "3a11606b",
   "metadata": {},
   "outputs": [
    {
     "data": {
      "text/html": [
       "<div>\n",
       "<style scoped>\n",
       "    .dataframe tbody tr th:only-of-type {\n",
       "        vertical-align: middle;\n",
       "    }\n",
       "\n",
       "    .dataframe tbody tr th {\n",
       "        vertical-align: top;\n",
       "    }\n",
       "\n",
       "    .dataframe thead th {\n",
       "        text-align: right;\n",
       "    }\n",
       "</style>\n",
       "<table border=\"1\" class=\"dataframe\">\n",
       "  <thead>\n",
       "    <tr style=\"text-align: right;\">\n",
       "      <th></th>\n",
       "      <th>Event ID</th>\n",
       "      <th>User ID</th>\n",
       "    </tr>\n",
       "  </thead>\n",
       "  <tbody>\n",
       "    <tr>\n",
       "      <th>0</th>\n",
       "      <td>1</td>\n",
       "      <td>1</td>\n",
       "    </tr>\n",
       "    <tr>\n",
       "      <th>1</th>\n",
       "      <td>2</td>\n",
       "      <td>5</td>\n",
       "    </tr>\n",
       "    <tr>\n",
       "      <th>2</th>\n",
       "      <td>3</td>\n",
       "      <td>4</td>\n",
       "    </tr>\n",
       "    <tr>\n",
       "      <th>3</th>\n",
       "      <td>4</td>\n",
       "      <td>2</td>\n",
       "    </tr>\n",
       "    <tr>\n",
       "      <th>4</th>\n",
       "      <td>5</td>\n",
       "      <td>1</td>\n",
       "    </tr>\n",
       "  </tbody>\n",
       "</table>\n",
       "</div>"
      ],
      "text/plain": [
       "   Event ID  User ID\n",
       "0         1        1\n",
       "1         2        5\n",
       "2         3        4\n",
       "3         4        2\n",
       "4         5        1"
      ]
     },
     "execution_count": 46,
     "metadata": {},
     "output_type": "execute_result"
    }
   ],
   "source": [
    "df_User_Events"
   ]
  },
  {
   "cell_type": "code",
   "execution_count": 47,
   "id": "87cf126e",
   "metadata": {},
   "outputs": [
    {
     "name": "stdout",
     "output_type": "stream",
     "text": [
      "<mysql.connector.connection_cext.CMySQLConnection object at 0x000001FF175C1EB0>\n"
     ]
    }
   ],
   "source": [
    "#connect to mysql servel\n",
    "mydb = mysql.connector.connect(\n",
    "  host=\"localhost\",\n",
    "  user=\"root\",\n",
    "  password=\"1965\",\n",
    "  database=\"testdb4\"\n",
    ")\n",
    "\n",
    "print(mydb)\n",
    "\n",
    "mycursor = mydb.cursor()"
   ]
  },
  {
   "cell_type": "code",
   "execution_count": 48,
   "id": "328ede58",
   "metadata": {},
   "outputs": [],
   "source": [
    "# create users table and adding constraints\n",
    "mycursor.execute(\"DROP TABLE IF EXISTS user\")\n",
    "mycursor.execute(\"CREATE TABLE User ( user_id int not null AUTO_INCREMENT, name varchar(255), password varchar(255), gender varchar(255), nickname varchar(255), country varchar(255), age int, Is_Deleted boolean, Is_Verified boolean, last_login timestamp, created_at timestamp, PRIMARY KEY (user_id))\")"
   ]
  },
  {
   "cell_type": "code",
   "execution_count": 53,
   "id": "26e6f17f",
   "metadata": {},
   "outputs": [
    {
     "data": {
      "text/html": [
       "<div>\n",
       "<style scoped>\n",
       "    .dataframe tbody tr th:only-of-type {\n",
       "        vertical-align: middle;\n",
       "    }\n",
       "\n",
       "    .dataframe tbody tr th {\n",
       "        vertical-align: top;\n",
       "    }\n",
       "\n",
       "    .dataframe thead th {\n",
       "        text-align: right;\n",
       "    }\n",
       "</style>\n",
       "<table border=\"1\" class=\"dataframe\">\n",
       "  <thead>\n",
       "    <tr style=\"text-align: right;\">\n",
       "      <th></th>\n",
       "      <th>Name</th>\n",
       "      <th>Password</th>\n",
       "      <th>Gender</th>\n",
       "      <th>Nickname</th>\n",
       "      <th>Country</th>\n",
       "      <th>Age</th>\n",
       "      <th>Is Deleted</th>\n",
       "      <th>Is_Verified</th>\n",
       "      <th>Last Login</th>\n",
       "      <th>Created At</th>\n",
       "    </tr>\n",
       "  </thead>\n",
       "  <tbody>\n",
       "    <tr>\n",
       "      <th>0</th>\n",
       "      <td>Harshila</td>\n",
       "      <td>harshila@123</td>\n",
       "      <td>Female</td>\n",
       "      <td>harshila</td>\n",
       "      <td>India</td>\n",
       "      <td>50</td>\n",
       "      <td>0</td>\n",
       "      <td>1</td>\n",
       "      <td>2022-12-05 23:59:59</td>\n",
       "      <td>2019-12-31 23:59:59</td>\n",
       "    </tr>\n",
       "    <tr>\n",
       "      <th>1</th>\n",
       "      <td>Yash</td>\n",
       "      <td>yash@123</td>\n",
       "      <td>Male</td>\n",
       "      <td>yash</td>\n",
       "      <td>India</td>\n",
       "      <td>50</td>\n",
       "      <td>0</td>\n",
       "      <td>1</td>\n",
       "      <td>2022-11-05 23:59:59</td>\n",
       "      <td>2019-11-31 23:59:59</td>\n",
       "    </tr>\n",
       "    <tr>\n",
       "      <th>2</th>\n",
       "      <td>Disha</td>\n",
       "      <td>disha@123</td>\n",
       "      <td>Female</td>\n",
       "      <td>disha</td>\n",
       "      <td>Australia</td>\n",
       "      <td>21.0</td>\n",
       "      <td>0</td>\n",
       "      <td>1</td>\n",
       "      <td>2022-10-05 23:59:59</td>\n",
       "      <td>2019-10-31 23:59:59</td>\n",
       "    </tr>\n",
       "    <tr>\n",
       "      <th>3</th>\n",
       "      <td>Gauri</td>\n",
       "      <td>gauri@123</td>\n",
       "      <td>Female</td>\n",
       "      <td>gauri</td>\n",
       "      <td>Australia</td>\n",
       "      <td>22.0</td>\n",
       "      <td>0</td>\n",
       "      <td>1</td>\n",
       "      <td>2022-09-05 23:59:59</td>\n",
       "      <td>2019-09-31 23:59:59</td>\n",
       "    </tr>\n",
       "    <tr>\n",
       "      <th>4</th>\n",
       "      <td>Kalyani</td>\n",
       "      <td>kalyani@123</td>\n",
       "      <td>Female</td>\n",
       "      <td>kalyani</td>\n",
       "      <td>Africa</td>\n",
       "      <td>23.0</td>\n",
       "      <td>0</td>\n",
       "      <td>1</td>\n",
       "      <td>2022-08-05 23:59:59</td>\n",
       "      <td>2019-08-31 23:59:59</td>\n",
       "    </tr>\n",
       "    <tr>\n",
       "      <th>5</th>\n",
       "      <td>Komal</td>\n",
       "      <td>komal@123</td>\n",
       "      <td>Female</td>\n",
       "      <td>komal</td>\n",
       "      <td>Nepal</td>\n",
       "      <td>24.0</td>\n",
       "      <td>0</td>\n",
       "      <td>1</td>\n",
       "      <td>2022-07-05 23:59:59</td>\n",
       "      <td>2019-07-31 23:59:59</td>\n",
       "    </tr>\n",
       "    <tr>\n",
       "      <th>6</th>\n",
       "      <td>Swarag</td>\n",
       "      <td>swarag@123</td>\n",
       "      <td>Male</td>\n",
       "      <td>swarag</td>\n",
       "      <td>USA</td>\n",
       "      <td>26.0</td>\n",
       "      <td>1</td>\n",
       "      <td>1</td>\n",
       "      <td>2022-06-06 23:59:59</td>\n",
       "      <td>2019-06-31 23:59:59</td>\n",
       "    </tr>\n",
       "    <tr>\n",
       "      <th>7</th>\n",
       "      <td>Arpit</td>\n",
       "      <td>arpit@123</td>\n",
       "      <td>Male</td>\n",
       "      <td>arpit</td>\n",
       "      <td>USA</td>\n",
       "      <td>27.0</td>\n",
       "      <td>0</td>\n",
       "      <td>1</td>\n",
       "      <td>2022-12-06 23:59:59</td>\n",
       "      <td>2019-06-31 23:59:59</td>\n",
       "    </tr>\n",
       "    <tr>\n",
       "      <th>8</th>\n",
       "      <td>Nishank</td>\n",
       "      <td>nishank@123</td>\n",
       "      <td>Male</td>\n",
       "      <td>nishank</td>\n",
       "      <td>USA</td>\n",
       "      <td>27.0</td>\n",
       "      <td>0</td>\n",
       "      <td>1</td>\n",
       "      <td>2022-05-06 23:59:59</td>\n",
       "      <td>2019-05-31 23:59:59</td>\n",
       "    </tr>\n",
       "    <tr>\n",
       "      <th>9</th>\n",
       "      <td>Jatin</td>\n",
       "      <td>jatin@123</td>\n",
       "      <td>Male</td>\n",
       "      <td>jatin</td>\n",
       "      <td>USA</td>\n",
       "      <td>27.0</td>\n",
       "      <td>0</td>\n",
       "      <td>1</td>\n",
       "      <td>2022-04-06 23:59:59</td>\n",
       "      <td>2019-04-31 23:59:59</td>\n",
       "    </tr>\n",
       "    <tr>\n",
       "      <th>10</th>\n",
       "      <td>Rajat</td>\n",
       "      <td>rajat@123</td>\n",
       "      <td>Male</td>\n",
       "      <td>rajat</td>\n",
       "      <td>USA</td>\n",
       "      <td>47.0</td>\n",
       "      <td>0</td>\n",
       "      <td>1</td>\n",
       "      <td>2022-12-06 23:59:59</td>\n",
       "      <td>2019-04-31 23:59:59</td>\n",
       "    </tr>\n",
       "    <tr>\n",
       "      <th>11</th>\n",
       "      <td>Chakri</td>\n",
       "      <td>chakri@123</td>\n",
       "      <td>Male</td>\n",
       "      <td>chakri</td>\n",
       "      <td>USA</td>\n",
       "      <td>37.0</td>\n",
       "      <td>0</td>\n",
       "      <td>1</td>\n",
       "      <td>2022-12-01 23:59:59</td>\n",
       "      <td>2019-03-31 23:59:59</td>\n",
       "    </tr>\n",
       "    <tr>\n",
       "      <th>12</th>\n",
       "      <td>Anuja</td>\n",
       "      <td>anuja@123</td>\n",
       "      <td>Female</td>\n",
       "      <td>anuja</td>\n",
       "      <td>India</td>\n",
       "      <td>33.0</td>\n",
       "      <td>0</td>\n",
       "      <td>0</td>\n",
       "      <td>2022-09-01 23:59:59</td>\n",
       "      <td>2019-03-31 23:59:59</td>\n",
       "    </tr>\n",
       "    <tr>\n",
       "      <th>13</th>\n",
       "      <td>Rishabh</td>\n",
       "      <td>rishabh@123</td>\n",
       "      <td>Male</td>\n",
       "      <td>rishabh</td>\n",
       "      <td>India</td>\n",
       "      <td>30.0</td>\n",
       "      <td>0</td>\n",
       "      <td>0</td>\n",
       "      <td>2022-12-06 23:59:59</td>\n",
       "      <td>2019-03-31 23:59:59</td>\n",
       "    </tr>\n",
       "  </tbody>\n",
       "</table>\n",
       "</div>"
      ],
      "text/plain": [
       "        Name      Password  Gender  Nickname    Country   Age  Is Deleted  \\\n",
       "0   Harshila  harshila@123  Female  harshila      India    50           0   \n",
       "1       Yash      yash@123    Male      yash      India    50           0   \n",
       "2      Disha     disha@123  Female     disha  Australia  21.0           0   \n",
       "3      Gauri     gauri@123  Female     gauri  Australia  22.0           0   \n",
       "4    Kalyani   kalyani@123  Female   kalyani     Africa  23.0           0   \n",
       "5      Komal     komal@123  Female     komal      Nepal  24.0           0   \n",
       "6     Swarag    swarag@123    Male    swarag        USA  26.0           1   \n",
       "7      Arpit     arpit@123    Male     arpit        USA  27.0           0   \n",
       "8    Nishank   nishank@123    Male   nishank        USA  27.0           0   \n",
       "9      Jatin     jatin@123    Male     jatin        USA  27.0           0   \n",
       "10     Rajat     rajat@123    Male     rajat        USA  47.0           0   \n",
       "11    Chakri    chakri@123    Male    chakri        USA  37.0           0   \n",
       "12     Anuja     anuja@123  Female     anuja      India  33.0           0   \n",
       "13   Rishabh   rishabh@123    Male   rishabh      India  30.0           0   \n",
       "\n",
       "    Is_Verified           Last Login           Created At  \n",
       "0             1  2022-12-05 23:59:59  2019-12-31 23:59:59  \n",
       "1             1  2022-11-05 23:59:59  2019-11-31 23:59:59  \n",
       "2             1  2022-10-05 23:59:59  2019-10-31 23:59:59  \n",
       "3             1  2022-09-05 23:59:59  2019-09-31 23:59:59  \n",
       "4             1  2022-08-05 23:59:59  2019-08-31 23:59:59  \n",
       "5             1  2022-07-05 23:59:59  2019-07-31 23:59:59  \n",
       "6             1  2022-06-06 23:59:59  2019-06-31 23:59:59  \n",
       "7             1  2022-12-06 23:59:59  2019-06-31 23:59:59  \n",
       "8             1  2022-05-06 23:59:59  2019-05-31 23:59:59  \n",
       "9             1  2022-04-06 23:59:59  2019-04-31 23:59:59  \n",
       "10            1  2022-12-06 23:59:59  2019-04-31 23:59:59  \n",
       "11            1  2022-12-01 23:59:59  2019-03-31 23:59:59  \n",
       "12            0  2022-09-01 23:59:59  2019-03-31 23:59:59  \n",
       "13            0  2022-12-06 23:59:59  2019-03-31 23:59:59  "
      ]
     },
     "execution_count": 53,
     "metadata": {},
     "output_type": "execute_result"
    }
   ],
   "source": [
    "df_User"
   ]
  },
  {
   "cell_type": "code",
   "execution_count": 52,
   "id": "afc51007",
   "metadata": {},
   "outputs": [],
   "source": [
    "#replace any null value\n",
    "df_User[\"Age\"].fillna(\"50\", inplace = True)"
   ]
  },
  {
   "cell_type": "code",
   "execution_count": 54,
   "id": "ed093dec",
   "metadata": {},
   "outputs": [
    {
     "name": "stdout",
     "output_type": "stream",
     "text": [
      "14 was inserted.\n"
     ]
    }
   ],
   "source": [
    "# inserting df_User dataframe in sql user table \n",
    "\n",
    "val = list(df_User.itertuples(index=False,name=None))\n",
    "sql = \"INSERT IGNORE INTO user (name, password, gender, nickname, country, age, Is_Deleted, Is_Verified, last_login, created_at) VALUES (%s, %s, %s, %s, %s, %s, %s, %s, %s, %s)\"\n",
    "\n",
    "mycursor.executemany(sql, val)\n",
    "\n",
    "mydb.commit()\n",
    "\n",
    "print(mycursor.rowcount, \"was inserted.\")"
   ]
  },
  {
   "cell_type": "code",
   "execution_count": 88,
   "id": "78bfad80",
   "metadata": {},
   "outputs": [
    {
     "data": {
      "text/html": [
       "<div>\n",
       "<style scoped>\n",
       "    .dataframe tbody tr th:only-of-type {\n",
       "        vertical-align: middle;\n",
       "    }\n",
       "\n",
       "    .dataframe tbody tr th {\n",
       "        vertical-align: top;\n",
       "    }\n",
       "\n",
       "    .dataframe thead th {\n",
       "        text-align: right;\n",
       "    }\n",
       "</style>\n",
       "<table border=\"1\" class=\"dataframe\">\n",
       "  <thead>\n",
       "    <tr style=\"text-align: right;\">\n",
       "      <th></th>\n",
       "      <th>Is Deleted</th>\n",
       "      <th>Is_Verified</th>\n",
       "    </tr>\n",
       "  </thead>\n",
       "  <tbody>\n",
       "    <tr>\n",
       "      <th>count</th>\n",
       "      <td>14.000000</td>\n",
       "      <td>14.000000</td>\n",
       "    </tr>\n",
       "    <tr>\n",
       "      <th>mean</th>\n",
       "      <td>0.071429</td>\n",
       "      <td>0.857143</td>\n",
       "    </tr>\n",
       "    <tr>\n",
       "      <th>std</th>\n",
       "      <td>0.267261</td>\n",
       "      <td>0.363137</td>\n",
       "    </tr>\n",
       "    <tr>\n",
       "      <th>min</th>\n",
       "      <td>0.000000</td>\n",
       "      <td>0.000000</td>\n",
       "    </tr>\n",
       "    <tr>\n",
       "      <th>25%</th>\n",
       "      <td>0.000000</td>\n",
       "      <td>1.000000</td>\n",
       "    </tr>\n",
       "    <tr>\n",
       "      <th>50%</th>\n",
       "      <td>0.000000</td>\n",
       "      <td>1.000000</td>\n",
       "    </tr>\n",
       "    <tr>\n",
       "      <th>75%</th>\n",
       "      <td>0.000000</td>\n",
       "      <td>1.000000</td>\n",
       "    </tr>\n",
       "    <tr>\n",
       "      <th>max</th>\n",
       "      <td>1.000000</td>\n",
       "      <td>1.000000</td>\n",
       "    </tr>\n",
       "  </tbody>\n",
       "</table>\n",
       "</div>"
      ],
      "text/plain": [
       "       Is Deleted  Is_Verified\n",
       "count   14.000000    14.000000\n",
       "mean     0.071429     0.857143\n",
       "std      0.267261     0.363137\n",
       "min      0.000000     0.000000\n",
       "25%      0.000000     1.000000\n",
       "50%      0.000000     1.000000\n",
       "75%      0.000000     1.000000\n",
       "max      1.000000     1.000000"
      ]
     },
     "execution_count": 88,
     "metadata": {},
     "output_type": "execute_result"
    }
   ],
   "source": [
    "#show integer objects User table\n",
    "df_User.describe()"
   ]
  },
  {
   "cell_type": "code",
   "execution_count": 89,
   "id": "a0bfe604",
   "metadata": {},
   "outputs": [
    {
     "data": {
      "text/html": [
       "<div>\n",
       "<style scoped>\n",
       "    .dataframe tbody tr th:only-of-type {\n",
       "        vertical-align: middle;\n",
       "    }\n",
       "\n",
       "    .dataframe tbody tr th {\n",
       "        vertical-align: top;\n",
       "    }\n",
       "\n",
       "    .dataframe thead th {\n",
       "        text-align: right;\n",
       "    }\n",
       "</style>\n",
       "<table border=\"1\" class=\"dataframe\">\n",
       "  <thead>\n",
       "    <tr style=\"text-align: right;\">\n",
       "      <th></th>\n",
       "      <th>Name</th>\n",
       "    </tr>\n",
       "  </thead>\n",
       "  <tbody>\n",
       "    <tr>\n",
       "      <th>count</th>\n",
       "      <td>8</td>\n",
       "    </tr>\n",
       "    <tr>\n",
       "      <th>unique</th>\n",
       "      <td>8</td>\n",
       "    </tr>\n",
       "    <tr>\n",
       "      <th>top</th>\n",
       "      <td>Sport</td>\n",
       "    </tr>\n",
       "    <tr>\n",
       "      <th>freq</th>\n",
       "      <td>1</td>\n",
       "    </tr>\n",
       "  </tbody>\n",
       "</table>\n",
       "</div>"
      ],
      "text/plain": [
       "         Name\n",
       "count       8\n",
       "unique      8\n",
       "top     Sport\n",
       "freq        1"
      ]
     },
     "execution_count": 89,
     "metadata": {},
     "output_type": "execute_result"
    }
   ],
   "source": [
    "df_Category.describe()"
   ]
  },
  {
   "cell_type": "code",
   "execution_count": 90,
   "id": "bcc6ef73",
   "metadata": {},
   "outputs": [
    {
     "data": {
      "text/html": [
       "<div>\n",
       "<style scoped>\n",
       "    .dataframe tbody tr th:only-of-type {\n",
       "        vertical-align: middle;\n",
       "    }\n",
       "\n",
       "    .dataframe tbody tr th {\n",
       "        vertical-align: top;\n",
       "    }\n",
       "\n",
       "    .dataframe thead th {\n",
       "        text-align: right;\n",
       "    }\n",
       "</style>\n",
       "<table border=\"1\" class=\"dataframe\">\n",
       "  <thead>\n",
       "    <tr style=\"text-align: right;\">\n",
       "      <th></th>\n",
       "      <th>Blocked By</th>\n",
       "      <th>Blocked Whom</th>\n",
       "    </tr>\n",
       "  </thead>\n",
       "  <tbody>\n",
       "    <tr>\n",
       "      <th>count</th>\n",
       "      <td>3.000000</td>\n",
       "      <td>3.000000</td>\n",
       "    </tr>\n",
       "    <tr>\n",
       "      <th>mean</th>\n",
       "      <td>1.333333</td>\n",
       "      <td>3.666667</td>\n",
       "    </tr>\n",
       "    <tr>\n",
       "      <th>std</th>\n",
       "      <td>0.577350</td>\n",
       "      <td>2.081666</td>\n",
       "    </tr>\n",
       "    <tr>\n",
       "      <th>min</th>\n",
       "      <td>1.000000</td>\n",
       "      <td>2.000000</td>\n",
       "    </tr>\n",
       "    <tr>\n",
       "      <th>25%</th>\n",
       "      <td>1.000000</td>\n",
       "      <td>2.500000</td>\n",
       "    </tr>\n",
       "    <tr>\n",
       "      <th>50%</th>\n",
       "      <td>1.000000</td>\n",
       "      <td>3.000000</td>\n",
       "    </tr>\n",
       "    <tr>\n",
       "      <th>75%</th>\n",
       "      <td>1.500000</td>\n",
       "      <td>4.500000</td>\n",
       "    </tr>\n",
       "    <tr>\n",
       "      <th>max</th>\n",
       "      <td>2.000000</td>\n",
       "      <td>6.000000</td>\n",
       "    </tr>\n",
       "  </tbody>\n",
       "</table>\n",
       "</div>"
      ],
      "text/plain": [
       "       Blocked By  Blocked Whom\n",
       "count    3.000000      3.000000\n",
       "mean     1.333333      3.666667\n",
       "std      0.577350      2.081666\n",
       "min      1.000000      2.000000\n",
       "25%      1.000000      2.500000\n",
       "50%      1.000000      3.000000\n",
       "75%      1.500000      4.500000\n",
       "max      2.000000      6.000000"
      ]
     },
     "execution_count": 90,
     "metadata": {},
     "output_type": "execute_result"
    }
   ],
   "source": [
    "df_Blocked_User.describe()"
   ]
  },
  {
   "cell_type": "code",
   "execution_count": null,
   "id": "7accd964",
   "metadata": {},
   "outputs": [],
   "source": [
    "df_User_Interest_Category.describe()"
   ]
  },
  {
   "cell_type": "code",
   "execution_count": 91,
   "id": "948906e4",
   "metadata": {},
   "outputs": [
    {
     "data": {
      "text/html": [
       "<div>\n",
       "<style scoped>\n",
       "    .dataframe tbody tr th:only-of-type {\n",
       "        vertical-align: middle;\n",
       "    }\n",
       "\n",
       "    .dataframe tbody tr th {\n",
       "        vertical-align: top;\n",
       "    }\n",
       "\n",
       "    .dataframe thead th {\n",
       "        text-align: right;\n",
       "    }\n",
       "</style>\n",
       "<table border=\"1\" class=\"dataframe\">\n",
       "  <thead>\n",
       "    <tr style=\"text-align: right;\">\n",
       "      <th></th>\n",
       "      <th>User1 ID</th>\n",
       "      <th>User2 ID</th>\n",
       "      <th>Category ID</th>\n",
       "    </tr>\n",
       "  </thead>\n",
       "  <tbody>\n",
       "    <tr>\n",
       "      <th>count</th>\n",
       "      <td>5.000000</td>\n",
       "      <td>5.000000</td>\n",
       "      <td>5.000000</td>\n",
       "    </tr>\n",
       "    <tr>\n",
       "      <th>mean</th>\n",
       "      <td>1.600000</td>\n",
       "      <td>3.400000</td>\n",
       "      <td>3.000000</td>\n",
       "    </tr>\n",
       "    <tr>\n",
       "      <th>std</th>\n",
       "      <td>0.894427</td>\n",
       "      <td>1.140175</td>\n",
       "      <td>1.581139</td>\n",
       "    </tr>\n",
       "    <tr>\n",
       "      <th>min</th>\n",
       "      <td>1.000000</td>\n",
       "      <td>2.000000</td>\n",
       "      <td>1.000000</td>\n",
       "    </tr>\n",
       "    <tr>\n",
       "      <th>25%</th>\n",
       "      <td>1.000000</td>\n",
       "      <td>3.000000</td>\n",
       "      <td>2.000000</td>\n",
       "    </tr>\n",
       "    <tr>\n",
       "      <th>50%</th>\n",
       "      <td>1.000000</td>\n",
       "      <td>3.000000</td>\n",
       "      <td>3.000000</td>\n",
       "    </tr>\n",
       "    <tr>\n",
       "      <th>75%</th>\n",
       "      <td>2.000000</td>\n",
       "      <td>4.000000</td>\n",
       "      <td>4.000000</td>\n",
       "    </tr>\n",
       "    <tr>\n",
       "      <th>max</th>\n",
       "      <td>3.000000</td>\n",
       "      <td>5.000000</td>\n",
       "      <td>5.000000</td>\n",
       "    </tr>\n",
       "  </tbody>\n",
       "</table>\n",
       "</div>"
      ],
      "text/plain": [
       "       User1 ID  User2 ID  Category ID\n",
       "count  5.000000  5.000000     5.000000\n",
       "mean   1.600000  3.400000     3.000000\n",
       "std    0.894427  1.140175     1.581139\n",
       "min    1.000000  2.000000     1.000000\n",
       "25%    1.000000  3.000000     2.000000\n",
       "50%    1.000000  3.000000     3.000000\n",
       "75%    2.000000  4.000000     4.000000\n",
       "max    3.000000  5.000000     5.000000"
      ]
     },
     "execution_count": 91,
     "metadata": {},
     "output_type": "execute_result"
    }
   ],
   "source": [
    "df_Match_Details.describe()"
   ]
  },
  {
   "cell_type": "code",
   "execution_count": 92,
   "id": "5116d112",
   "metadata": {},
   "outputs": [
    {
     "data": {
      "text/html": [
       "<div>\n",
       "<style scoped>\n",
       "    .dataframe tbody tr th:only-of-type {\n",
       "        vertical-align: middle;\n",
       "    }\n",
       "\n",
       "    .dataframe tbody tr th {\n",
       "        vertical-align: top;\n",
       "    }\n",
       "\n",
       "    .dataframe thead th {\n",
       "        text-align: right;\n",
       "    }\n",
       "</style>\n",
       "<table border=\"1\" class=\"dataframe\">\n",
       "  <thead>\n",
       "    <tr style=\"text-align: right;\">\n",
       "      <th></th>\n",
       "      <th>Match ID</th>\n",
       "    </tr>\n",
       "  </thead>\n",
       "  <tbody>\n",
       "    <tr>\n",
       "      <th>count</th>\n",
       "      <td>3.0</td>\n",
       "    </tr>\n",
       "    <tr>\n",
       "      <th>mean</th>\n",
       "      <td>2.0</td>\n",
       "    </tr>\n",
       "    <tr>\n",
       "      <th>std</th>\n",
       "      <td>1.0</td>\n",
       "    </tr>\n",
       "    <tr>\n",
       "      <th>min</th>\n",
       "      <td>1.0</td>\n",
       "    </tr>\n",
       "    <tr>\n",
       "      <th>25%</th>\n",
       "      <td>1.5</td>\n",
       "    </tr>\n",
       "    <tr>\n",
       "      <th>50%</th>\n",
       "      <td>2.0</td>\n",
       "    </tr>\n",
       "    <tr>\n",
       "      <th>75%</th>\n",
       "      <td>2.5</td>\n",
       "    </tr>\n",
       "    <tr>\n",
       "      <th>max</th>\n",
       "      <td>3.0</td>\n",
       "    </tr>\n",
       "  </tbody>\n",
       "</table>\n",
       "</div>"
      ],
      "text/plain": [
       "       Match ID\n",
       "count       3.0\n",
       "mean        2.0\n",
       "std         1.0\n",
       "min         1.0\n",
       "25%         1.5\n",
       "50%         2.0\n",
       "75%         2.5\n",
       "max         3.0"
      ]
     },
     "execution_count": 92,
     "metadata": {},
     "output_type": "execute_result"
    }
   ],
   "source": [
    "df_Conversation.describe()"
   ]
  },
  {
   "cell_type": "code",
   "execution_count": 93,
   "id": "572e49e6",
   "metadata": {},
   "outputs": [
    {
     "data": {
      "text/html": [
       "<div>\n",
       "<style scoped>\n",
       "    .dataframe tbody tr th:only-of-type {\n",
       "        vertical-align: middle;\n",
       "    }\n",
       "\n",
       "    .dataframe tbody tr th {\n",
       "        vertical-align: top;\n",
       "    }\n",
       "\n",
       "    .dataframe thead th {\n",
       "        text-align: right;\n",
       "    }\n",
       "</style>\n",
       "<table border=\"1\" class=\"dataframe\">\n",
       "  <thead>\n",
       "    <tr style=\"text-align: right;\">\n",
       "      <th></th>\n",
       "      <th>Category ID</th>\n",
       "    </tr>\n",
       "  </thead>\n",
       "  <tbody>\n",
       "    <tr>\n",
       "      <th>count</th>\n",
       "      <td>7.000000</td>\n",
       "    </tr>\n",
       "    <tr>\n",
       "      <th>mean</th>\n",
       "      <td>4.000000</td>\n",
       "    </tr>\n",
       "    <tr>\n",
       "      <th>std</th>\n",
       "      <td>2.160247</td>\n",
       "    </tr>\n",
       "    <tr>\n",
       "      <th>min</th>\n",
       "      <td>1.000000</td>\n",
       "    </tr>\n",
       "    <tr>\n",
       "      <th>25%</th>\n",
       "      <td>2.500000</td>\n",
       "    </tr>\n",
       "    <tr>\n",
       "      <th>50%</th>\n",
       "      <td>4.000000</td>\n",
       "    </tr>\n",
       "    <tr>\n",
       "      <th>75%</th>\n",
       "      <td>5.500000</td>\n",
       "    </tr>\n",
       "    <tr>\n",
       "      <th>max</th>\n",
       "      <td>7.000000</td>\n",
       "    </tr>\n",
       "  </tbody>\n",
       "</table>\n",
       "</div>"
      ],
      "text/plain": [
       "       Category ID\n",
       "count     7.000000\n",
       "mean      4.000000\n",
       "std       2.160247\n",
       "min       1.000000\n",
       "25%       2.500000\n",
       "50%       4.000000\n",
       "75%       5.500000\n",
       "max       7.000000"
      ]
     },
     "execution_count": 93,
     "metadata": {},
     "output_type": "execute_result"
    }
   ],
   "source": [
    "df_Group_Details.describe()"
   ]
  },
  {
   "cell_type": "code",
   "execution_count": 94,
   "id": "2a96a42d",
   "metadata": {},
   "outputs": [
    {
     "data": {
      "text/html": [
       "<div>\n",
       "<style scoped>\n",
       "    .dataframe tbody tr th:only-of-type {\n",
       "        vertical-align: middle;\n",
       "    }\n",
       "\n",
       "    .dataframe tbody tr th {\n",
       "        vertical-align: top;\n",
       "    }\n",
       "\n",
       "    .dataframe thead th {\n",
       "        text-align: right;\n",
       "    }\n",
       "</style>\n",
       "<table border=\"1\" class=\"dataframe\">\n",
       "  <thead>\n",
       "    <tr style=\"text-align: right;\">\n",
       "      <th></th>\n",
       "      <th>Group ID</th>\n",
       "    </tr>\n",
       "  </thead>\n",
       "  <tbody>\n",
       "    <tr>\n",
       "      <th>count</th>\n",
       "      <td>5.000000</td>\n",
       "    </tr>\n",
       "    <tr>\n",
       "      <th>mean</th>\n",
       "      <td>3.000000</td>\n",
       "    </tr>\n",
       "    <tr>\n",
       "      <th>std</th>\n",
       "      <td>1.581139</td>\n",
       "    </tr>\n",
       "    <tr>\n",
       "      <th>min</th>\n",
       "      <td>1.000000</td>\n",
       "    </tr>\n",
       "    <tr>\n",
       "      <th>25%</th>\n",
       "      <td>2.000000</td>\n",
       "    </tr>\n",
       "    <tr>\n",
       "      <th>50%</th>\n",
       "      <td>3.000000</td>\n",
       "    </tr>\n",
       "    <tr>\n",
       "      <th>75%</th>\n",
       "      <td>4.000000</td>\n",
       "    </tr>\n",
       "    <tr>\n",
       "      <th>max</th>\n",
       "      <td>5.000000</td>\n",
       "    </tr>\n",
       "  </tbody>\n",
       "</table>\n",
       "</div>"
      ],
      "text/plain": [
       "       Group ID\n",
       "count  5.000000\n",
       "mean   3.000000\n",
       "std    1.581139\n",
       "min    1.000000\n",
       "25%    2.000000\n",
       "50%    3.000000\n",
       "75%    4.000000\n",
       "max    5.000000"
      ]
     },
     "execution_count": 94,
     "metadata": {},
     "output_type": "execute_result"
    }
   ],
   "source": [
    "df_Event_Details.describe()"
   ]
  },
  {
   "cell_type": "code",
   "execution_count": 95,
   "id": "40fe8d07",
   "metadata": {},
   "outputs": [
    {
     "data": {
      "text/plain": [
       "(14, 10)"
      ]
     },
     "execution_count": 95,
     "metadata": {},
     "output_type": "execute_result"
    }
   ],
   "source": [
    "df_User.shape"
   ]
  },
  {
   "cell_type": "code",
   "execution_count": 96,
   "id": "c68f9132",
   "metadata": {},
   "outputs": [
    {
     "data": {
      "text/plain": [
       "14"
      ]
     },
     "execution_count": 96,
     "metadata": {},
     "output_type": "execute_result"
    }
   ],
   "source": [
    "df_User.Age.count()"
   ]
  },
  {
   "cell_type": "code",
   "execution_count": 58,
   "id": "0545613c",
   "metadata": {},
   "outputs": [
    {
     "data": {
      "text/html": [
       "<div>\n",
       "<style scoped>\n",
       "    .dataframe tbody tr th:only-of-type {\n",
       "        vertical-align: middle;\n",
       "    }\n",
       "\n",
       "    .dataframe tbody tr th {\n",
       "        vertical-align: top;\n",
       "    }\n",
       "\n",
       "    .dataframe thead th {\n",
       "        text-align: right;\n",
       "    }\n",
       "</style>\n",
       "<table border=\"1\" class=\"dataframe\">\n",
       "  <thead>\n",
       "    <tr style=\"text-align: right;\">\n",
       "      <th></th>\n",
       "      <th>Name</th>\n",
       "      <th>Password</th>\n",
       "      <th>Gender</th>\n",
       "      <th>Nickname</th>\n",
       "      <th>Country</th>\n",
       "      <th>Age</th>\n",
       "      <th>Is Deleted</th>\n",
       "      <th>Is_Verified</th>\n",
       "      <th>Last Login</th>\n",
       "      <th>Created At</th>\n",
       "    </tr>\n",
       "  </thead>\n",
       "  <tbody>\n",
       "    <tr>\n",
       "      <th>0</th>\n",
       "      <td>Harshila</td>\n",
       "      <td>harshila@123</td>\n",
       "      <td>Female</td>\n",
       "      <td>harshila</td>\n",
       "      <td>India</td>\n",
       "      <td>50</td>\n",
       "      <td>0</td>\n",
       "      <td>1</td>\n",
       "      <td>2022-12-05 23:59:59</td>\n",
       "      <td>2019-12-31 23:59:59</td>\n",
       "    </tr>\n",
       "    <tr>\n",
       "      <th>1</th>\n",
       "      <td>Yash</td>\n",
       "      <td>yash@123</td>\n",
       "      <td>Male</td>\n",
       "      <td>yash</td>\n",
       "      <td>India</td>\n",
       "      <td>50</td>\n",
       "      <td>0</td>\n",
       "      <td>1</td>\n",
       "      <td>2022-11-05 23:59:59</td>\n",
       "      <td>2019-11-31 23:59:59</td>\n",
       "    </tr>\n",
       "    <tr>\n",
       "      <th>2</th>\n",
       "      <td>Disha</td>\n",
       "      <td>disha@123</td>\n",
       "      <td>Female</td>\n",
       "      <td>disha</td>\n",
       "      <td>Australia</td>\n",
       "      <td>21.0</td>\n",
       "      <td>0</td>\n",
       "      <td>1</td>\n",
       "      <td>2022-10-05 23:59:59</td>\n",
       "      <td>2019-10-31 23:59:59</td>\n",
       "    </tr>\n",
       "    <tr>\n",
       "      <th>3</th>\n",
       "      <td>Gauri</td>\n",
       "      <td>gauri@123</td>\n",
       "      <td>Female</td>\n",
       "      <td>gauri</td>\n",
       "      <td>Australia</td>\n",
       "      <td>22.0</td>\n",
       "      <td>0</td>\n",
       "      <td>1</td>\n",
       "      <td>2022-09-05 23:59:59</td>\n",
       "      <td>2019-09-31 23:59:59</td>\n",
       "    </tr>\n",
       "    <tr>\n",
       "      <th>4</th>\n",
       "      <td>Kalyani</td>\n",
       "      <td>kalyani@123</td>\n",
       "      <td>Female</td>\n",
       "      <td>kalyani</td>\n",
       "      <td>Africa</td>\n",
       "      <td>23.0</td>\n",
       "      <td>0</td>\n",
       "      <td>1</td>\n",
       "      <td>2022-08-05 23:59:59</td>\n",
       "      <td>2019-08-31 23:59:59</td>\n",
       "    </tr>\n",
       "  </tbody>\n",
       "</table>\n",
       "</div>"
      ],
      "text/plain": [
       "       Name      Password  Gender  Nickname    Country   Age  Is Deleted  \\\n",
       "0  Harshila  harshila@123  Female  harshila      India    50           0   \n",
       "1      Yash      yash@123    Male      yash      India    50           0   \n",
       "2     Disha     disha@123  Female     disha  Australia  21.0           0   \n",
       "3     Gauri     gauri@123  Female     gauri  Australia  22.0           0   \n",
       "4   Kalyani   kalyani@123  Female   kalyani     Africa  23.0           0   \n",
       "\n",
       "   Is_Verified           Last Login           Created At  \n",
       "0            1  2022-12-05 23:59:59  2019-12-31 23:59:59  \n",
       "1            1  2022-11-05 23:59:59  2019-11-31 23:59:59  \n",
       "2            1  2022-10-05 23:59:59  2019-10-31 23:59:59  \n",
       "3            1  2022-09-05 23:59:59  2019-09-31 23:59:59  \n",
       "4            1  2022-08-05 23:59:59  2019-08-31 23:59:59  "
      ]
     },
     "execution_count": 58,
     "metadata": {},
     "output_type": "execute_result"
    }
   ],
   "source": [
    "#first 5 rows\n",
    "df_User.head()"
   ]
  },
  {
   "cell_type": "code",
   "execution_count": 59,
   "id": "568d4152",
   "metadata": {},
   "outputs": [
    {
     "data": {
      "text/html": [
       "<div>\n",
       "<style scoped>\n",
       "    .dataframe tbody tr th:only-of-type {\n",
       "        vertical-align: middle;\n",
       "    }\n",
       "\n",
       "    .dataframe tbody tr th {\n",
       "        vertical-align: top;\n",
       "    }\n",
       "\n",
       "    .dataframe thead th {\n",
       "        text-align: right;\n",
       "    }\n",
       "</style>\n",
       "<table border=\"1\" class=\"dataframe\">\n",
       "  <thead>\n",
       "    <tr style=\"text-align: right;\">\n",
       "      <th></th>\n",
       "      <th>Name</th>\n",
       "      <th>Password</th>\n",
       "      <th>Gender</th>\n",
       "      <th>Nickname</th>\n",
       "      <th>Country</th>\n",
       "      <th>Age</th>\n",
       "      <th>Is Deleted</th>\n",
       "      <th>Is_Verified</th>\n",
       "      <th>Last Login</th>\n",
       "      <th>Created At</th>\n",
       "    </tr>\n",
       "  </thead>\n",
       "  <tbody>\n",
       "    <tr>\n",
       "      <th>9</th>\n",
       "      <td>Jatin</td>\n",
       "      <td>jatin@123</td>\n",
       "      <td>Male</td>\n",
       "      <td>jatin</td>\n",
       "      <td>USA</td>\n",
       "      <td>27.0</td>\n",
       "      <td>0</td>\n",
       "      <td>1</td>\n",
       "      <td>2022-04-06 23:59:59</td>\n",
       "      <td>2019-04-31 23:59:59</td>\n",
       "    </tr>\n",
       "    <tr>\n",
       "      <th>10</th>\n",
       "      <td>Rajat</td>\n",
       "      <td>rajat@123</td>\n",
       "      <td>Male</td>\n",
       "      <td>rajat</td>\n",
       "      <td>USA</td>\n",
       "      <td>47.0</td>\n",
       "      <td>0</td>\n",
       "      <td>1</td>\n",
       "      <td>2022-12-06 23:59:59</td>\n",
       "      <td>2019-04-31 23:59:59</td>\n",
       "    </tr>\n",
       "    <tr>\n",
       "      <th>11</th>\n",
       "      <td>Chakri</td>\n",
       "      <td>chakri@123</td>\n",
       "      <td>Male</td>\n",
       "      <td>chakri</td>\n",
       "      <td>USA</td>\n",
       "      <td>37.0</td>\n",
       "      <td>0</td>\n",
       "      <td>1</td>\n",
       "      <td>2022-12-01 23:59:59</td>\n",
       "      <td>2019-03-31 23:59:59</td>\n",
       "    </tr>\n",
       "    <tr>\n",
       "      <th>12</th>\n",
       "      <td>Anuja</td>\n",
       "      <td>anuja@123</td>\n",
       "      <td>Female</td>\n",
       "      <td>anuja</td>\n",
       "      <td>India</td>\n",
       "      <td>33.0</td>\n",
       "      <td>0</td>\n",
       "      <td>0</td>\n",
       "      <td>2022-09-01 23:59:59</td>\n",
       "      <td>2019-03-31 23:59:59</td>\n",
       "    </tr>\n",
       "    <tr>\n",
       "      <th>13</th>\n",
       "      <td>Rishabh</td>\n",
       "      <td>rishabh@123</td>\n",
       "      <td>Male</td>\n",
       "      <td>rishabh</td>\n",
       "      <td>India</td>\n",
       "      <td>30.0</td>\n",
       "      <td>0</td>\n",
       "      <td>0</td>\n",
       "      <td>2022-12-06 23:59:59</td>\n",
       "      <td>2019-03-31 23:59:59</td>\n",
       "    </tr>\n",
       "  </tbody>\n",
       "</table>\n",
       "</div>"
      ],
      "text/plain": [
       "       Name     Password  Gender Nickname Country   Age  Is Deleted  \\\n",
       "9     Jatin    jatin@123    Male    jatin     USA  27.0           0   \n",
       "10    Rajat    rajat@123    Male    rajat     USA  47.0           0   \n",
       "11   Chakri   chakri@123    Male   chakri     USA  37.0           0   \n",
       "12    Anuja    anuja@123  Female    anuja   India  33.0           0   \n",
       "13  Rishabh  rishabh@123    Male  rishabh   India  30.0           0   \n",
       "\n",
       "    Is_Verified           Last Login           Created At  \n",
       "9             1  2022-04-06 23:59:59  2019-04-31 23:59:59  \n",
       "10            1  2022-12-06 23:59:59  2019-04-31 23:59:59  \n",
       "11            1  2022-12-01 23:59:59  2019-03-31 23:59:59  \n",
       "12            0  2022-09-01 23:59:59  2019-03-31 23:59:59  \n",
       "13            0  2022-12-06 23:59:59  2019-03-31 23:59:59  "
      ]
     },
     "execution_count": 59,
     "metadata": {},
     "output_type": "execute_result"
    }
   ],
   "source": [
    "#last 5 rows\n",
    "df_User.tail()"
   ]
  },
  {
   "cell_type": "code",
   "execution_count": 60,
   "id": "d83b1e85",
   "metadata": {},
   "outputs": [
    {
     "data": {
      "text/plain": [
       "(14, 10)"
      ]
     },
     "execution_count": 60,
     "metadata": {},
     "output_type": "execute_result"
    }
   ],
   "source": [
    "#how many rows, columns\n",
    "df_User.shape"
   ]
  },
  {
   "cell_type": "code",
   "execution_count": 61,
   "id": "7c7eac1c",
   "metadata": {},
   "outputs": [
    {
     "data": {
      "text/plain": [
       "Index(['Name', 'Password', 'Gender', 'Nickname', 'Country', 'Age',\n",
       "       'Is Deleted', 'Is_Verified', 'Last Login', 'Created At'],\n",
       "      dtype='object')"
      ]
     },
     "execution_count": 61,
     "metadata": {},
     "output_type": "execute_result"
    }
   ],
   "source": [
    "#show all columns\n",
    "df_User.columns"
   ]
  },
  {
   "cell_type": "code",
   "execution_count": 97,
   "id": "cf579e25",
   "metadata": {},
   "outputs": [
    {
     "data": {
      "text/plain": [
       "Index(['Name'], dtype='object')"
      ]
     },
     "execution_count": 97,
     "metadata": {},
     "output_type": "execute_result"
    }
   ],
   "source": [
    "df_Category.columns"
   ]
  },
  {
   "cell_type": "code",
   "execution_count": 98,
   "id": "940bf344",
   "metadata": {},
   "outputs": [
    {
     "data": {
      "text/plain": [
       "Index(['Blocked By', 'Blocked Whom'], dtype='object')"
      ]
     },
     "execution_count": 98,
     "metadata": {},
     "output_type": "execute_result"
    }
   ],
   "source": [
    "df_Blocked_User.columns"
   ]
  },
  {
   "cell_type": "code",
   "execution_count": 99,
   "id": "5cc50118",
   "metadata": {},
   "outputs": [
    {
     "data": {
      "text/plain": [
       "Index(['User ID', 'Category ID'], dtype='object')"
      ]
     },
     "execution_count": 99,
     "metadata": {},
     "output_type": "execute_result"
    }
   ],
   "source": [
    "df_User_Interest_Category.columns"
   ]
  },
  {
   "cell_type": "code",
   "execution_count": 100,
   "id": "dc3614c3",
   "metadata": {},
   "outputs": [
    {
     "data": {
      "text/plain": [
       "Index(['User1 ID', 'User2 ID', 'Category ID', 'Match Time'], dtype='object')"
      ]
     },
     "execution_count": 100,
     "metadata": {},
     "output_type": "execute_result"
    }
   ],
   "source": [
    "df_Match_Details.columns"
   ]
  },
  {
   "cell_type": "code",
   "execution_count": 101,
   "id": "4480bbd9",
   "metadata": {},
   "outputs": [
    {
     "data": {
      "text/plain": [
       "Index(['Match ID', 'Message'], dtype='object')"
      ]
     },
     "execution_count": 101,
     "metadata": {},
     "output_type": "execute_result"
    }
   ],
   "source": [
    "df_Conversation.columns"
   ]
  },
  {
   "cell_type": "code",
   "execution_count": 102,
   "id": "fe27adad",
   "metadata": {},
   "outputs": [
    {
     "data": {
      "text/plain": [
       "Index(['Category ID', 'Group Name'], dtype='object')"
      ]
     },
     "execution_count": 102,
     "metadata": {},
     "output_type": "execute_result"
    }
   ],
   "source": [
    "df_Group_Details.columns"
   ]
  },
  {
   "cell_type": "code",
   "execution_count": 103,
   "id": "027c58a0",
   "metadata": {},
   "outputs": [
    {
     "data": {
      "text/plain": [
       "Index(['Group ID', 'Event Name', 'Event Date'], dtype='object')"
      ]
     },
     "execution_count": 103,
     "metadata": {},
     "output_type": "execute_result"
    }
   ],
   "source": [
    "df_Event_Details.columns"
   ]
  },
  {
   "cell_type": "code",
   "execution_count": 62,
   "id": "47492516",
   "metadata": {},
   "outputs": [
    {
     "data": {
      "text/plain": [
       "Name           14\n",
       "Password       14\n",
       "Gender          2\n",
       "Nickname       14\n",
       "Country         5\n",
       "Age            11\n",
       "Is Deleted      2\n",
       "Is_Verified     2\n",
       "Last Login     12\n",
       "Created At     10\n",
       "dtype: int64"
      ]
     },
     "execution_count": 62,
     "metadata": {},
     "output_type": "execute_result"
    }
   ],
   "source": [
    "#show unique values of each column\n",
    "df_User.nunique()"
   ]
  },
  {
   "cell_type": "code",
   "execution_count": 63,
   "id": "daee8dae",
   "metadata": {},
   "outputs": [
    {
     "data": {
      "text/plain": [
       "array(['India', 'Australia', 'Africa', 'Nepal', 'USA'], dtype=object)"
      ]
     },
     "execution_count": 63,
     "metadata": {},
     "output_type": "execute_result"
    }
   ],
   "source": [
    "#check unique value for a specific column\n",
    "df_User['Country'].unique()"
   ]
  },
  {
   "cell_type": "code",
   "execution_count": 64,
   "id": "f9718148",
   "metadata": {},
   "outputs": [
    {
     "data": {
      "text/plain": [
       "Name           0\n",
       "Password       0\n",
       "Gender         0\n",
       "Nickname       0\n",
       "Country        0\n",
       "Age            0\n",
       "Is Deleted     0\n",
       "Is_Verified    0\n",
       "Last Login     0\n",
       "Created At     0\n",
       "dtype: int64"
      ]
     },
     "execution_count": 64,
     "metadata": {},
     "output_type": "execute_result"
    }
   ],
   "source": [
    "#check if amy column has any null value\n",
    "df_User.isnull().sum()"
   ]
  },
  {
   "cell_type": "code",
   "execution_count": 65,
   "id": "51052379",
   "metadata": {},
   "outputs": [],
   "source": [
    "#replace any null value\n",
    "df_User[\"Age\"].fillna(\"50\", inplace = True)"
   ]
  },
  {
   "cell_type": "code",
   "execution_count": 66,
   "id": "d4a9f573",
   "metadata": {},
   "outputs": [
    {
     "data": {
      "text/html": [
       "<div>\n",
       "<style scoped>\n",
       "    .dataframe tbody tr th:only-of-type {\n",
       "        vertical-align: middle;\n",
       "    }\n",
       "\n",
       "    .dataframe tbody tr th {\n",
       "        vertical-align: top;\n",
       "    }\n",
       "\n",
       "    .dataframe thead th {\n",
       "        text-align: right;\n",
       "    }\n",
       "</style>\n",
       "<table border=\"1\" class=\"dataframe\">\n",
       "  <thead>\n",
       "    <tr style=\"text-align: right;\">\n",
       "      <th></th>\n",
       "      <th>Name</th>\n",
       "      <th>Password</th>\n",
       "      <th>Gender</th>\n",
       "      <th>Nickname</th>\n",
       "      <th>Country</th>\n",
       "      <th>Age</th>\n",
       "      <th>Is Deleted</th>\n",
       "      <th>Is_Verified</th>\n",
       "      <th>Last Login</th>\n",
       "      <th>Created At</th>\n",
       "    </tr>\n",
       "  </thead>\n",
       "  <tbody>\n",
       "    <tr>\n",
       "      <th>0</th>\n",
       "      <td>Harshila</td>\n",
       "      <td>harshila@123</td>\n",
       "      <td>Female</td>\n",
       "      <td>harshila</td>\n",
       "      <td>India</td>\n",
       "      <td>50</td>\n",
       "      <td>0</td>\n",
       "      <td>1</td>\n",
       "      <td>2022-12-05 23:59:59</td>\n",
       "      <td>2019-12-31 23:59:59</td>\n",
       "    </tr>\n",
       "    <tr>\n",
       "      <th>1</th>\n",
       "      <td>Yash</td>\n",
       "      <td>yash@123</td>\n",
       "      <td>Male</td>\n",
       "      <td>yash</td>\n",
       "      <td>India</td>\n",
       "      <td>50</td>\n",
       "      <td>0</td>\n",
       "      <td>1</td>\n",
       "      <td>2022-11-05 23:59:59</td>\n",
       "      <td>2019-11-31 23:59:59</td>\n",
       "    </tr>\n",
       "    <tr>\n",
       "      <th>2</th>\n",
       "      <td>Disha</td>\n",
       "      <td>disha@123</td>\n",
       "      <td>Female</td>\n",
       "      <td>disha</td>\n",
       "      <td>Australia</td>\n",
       "      <td>21.0</td>\n",
       "      <td>0</td>\n",
       "      <td>1</td>\n",
       "      <td>2022-10-05 23:59:59</td>\n",
       "      <td>2019-10-31 23:59:59</td>\n",
       "    </tr>\n",
       "    <tr>\n",
       "      <th>3</th>\n",
       "      <td>Gauri</td>\n",
       "      <td>gauri@123</td>\n",
       "      <td>Female</td>\n",
       "      <td>gauri</td>\n",
       "      <td>Australia</td>\n",
       "      <td>22.0</td>\n",
       "      <td>0</td>\n",
       "      <td>1</td>\n",
       "      <td>2022-09-05 23:59:59</td>\n",
       "      <td>2019-09-31 23:59:59</td>\n",
       "    </tr>\n",
       "    <tr>\n",
       "      <th>4</th>\n",
       "      <td>Kalyani</td>\n",
       "      <td>kalyani@123</td>\n",
       "      <td>Female</td>\n",
       "      <td>kalyani</td>\n",
       "      <td>Africa</td>\n",
       "      <td>23.0</td>\n",
       "      <td>0</td>\n",
       "      <td>1</td>\n",
       "      <td>2022-08-05 23:59:59</td>\n",
       "      <td>2019-08-31 23:59:59</td>\n",
       "    </tr>\n",
       "    <tr>\n",
       "      <th>5</th>\n",
       "      <td>Komal</td>\n",
       "      <td>komal@123</td>\n",
       "      <td>Female</td>\n",
       "      <td>komal</td>\n",
       "      <td>Nepal</td>\n",
       "      <td>24.0</td>\n",
       "      <td>0</td>\n",
       "      <td>1</td>\n",
       "      <td>2022-07-05 23:59:59</td>\n",
       "      <td>2019-07-31 23:59:59</td>\n",
       "    </tr>\n",
       "    <tr>\n",
       "      <th>6</th>\n",
       "      <td>Swarag</td>\n",
       "      <td>swarag@123</td>\n",
       "      <td>Male</td>\n",
       "      <td>swarag</td>\n",
       "      <td>USA</td>\n",
       "      <td>26.0</td>\n",
       "      <td>1</td>\n",
       "      <td>1</td>\n",
       "      <td>2022-06-06 23:59:59</td>\n",
       "      <td>2019-06-31 23:59:59</td>\n",
       "    </tr>\n",
       "    <tr>\n",
       "      <th>7</th>\n",
       "      <td>Arpit</td>\n",
       "      <td>arpit@123</td>\n",
       "      <td>Male</td>\n",
       "      <td>arpit</td>\n",
       "      <td>USA</td>\n",
       "      <td>27.0</td>\n",
       "      <td>0</td>\n",
       "      <td>1</td>\n",
       "      <td>2022-12-06 23:59:59</td>\n",
       "      <td>2019-06-31 23:59:59</td>\n",
       "    </tr>\n",
       "    <tr>\n",
       "      <th>8</th>\n",
       "      <td>Nishank</td>\n",
       "      <td>nishank@123</td>\n",
       "      <td>Male</td>\n",
       "      <td>nishank</td>\n",
       "      <td>USA</td>\n",
       "      <td>27.0</td>\n",
       "      <td>0</td>\n",
       "      <td>1</td>\n",
       "      <td>2022-05-06 23:59:59</td>\n",
       "      <td>2019-05-31 23:59:59</td>\n",
       "    </tr>\n",
       "    <tr>\n",
       "      <th>9</th>\n",
       "      <td>Jatin</td>\n",
       "      <td>jatin@123</td>\n",
       "      <td>Male</td>\n",
       "      <td>jatin</td>\n",
       "      <td>USA</td>\n",
       "      <td>27.0</td>\n",
       "      <td>0</td>\n",
       "      <td>1</td>\n",
       "      <td>2022-04-06 23:59:59</td>\n",
       "      <td>2019-04-31 23:59:59</td>\n",
       "    </tr>\n",
       "    <tr>\n",
       "      <th>10</th>\n",
       "      <td>Rajat</td>\n",
       "      <td>rajat@123</td>\n",
       "      <td>Male</td>\n",
       "      <td>rajat</td>\n",
       "      <td>USA</td>\n",
       "      <td>47.0</td>\n",
       "      <td>0</td>\n",
       "      <td>1</td>\n",
       "      <td>2022-12-06 23:59:59</td>\n",
       "      <td>2019-04-31 23:59:59</td>\n",
       "    </tr>\n",
       "    <tr>\n",
       "      <th>11</th>\n",
       "      <td>Chakri</td>\n",
       "      <td>chakri@123</td>\n",
       "      <td>Male</td>\n",
       "      <td>chakri</td>\n",
       "      <td>USA</td>\n",
       "      <td>37.0</td>\n",
       "      <td>0</td>\n",
       "      <td>1</td>\n",
       "      <td>2022-12-01 23:59:59</td>\n",
       "      <td>2019-03-31 23:59:59</td>\n",
       "    </tr>\n",
       "    <tr>\n",
       "      <th>12</th>\n",
       "      <td>Anuja</td>\n",
       "      <td>anuja@123</td>\n",
       "      <td>Female</td>\n",
       "      <td>anuja</td>\n",
       "      <td>India</td>\n",
       "      <td>33.0</td>\n",
       "      <td>0</td>\n",
       "      <td>0</td>\n",
       "      <td>2022-09-01 23:59:59</td>\n",
       "      <td>2019-03-31 23:59:59</td>\n",
       "    </tr>\n",
       "    <tr>\n",
       "      <th>13</th>\n",
       "      <td>Rishabh</td>\n",
       "      <td>rishabh@123</td>\n",
       "      <td>Male</td>\n",
       "      <td>rishabh</td>\n",
       "      <td>India</td>\n",
       "      <td>30.0</td>\n",
       "      <td>0</td>\n",
       "      <td>0</td>\n",
       "      <td>2022-12-06 23:59:59</td>\n",
       "      <td>2019-03-31 23:59:59</td>\n",
       "    </tr>\n",
       "  </tbody>\n",
       "</table>\n",
       "</div>"
      ],
      "text/plain": [
       "        Name      Password  Gender  Nickname    Country   Age  Is Deleted  \\\n",
       "0   Harshila  harshila@123  Female  harshila      India    50           0   \n",
       "1       Yash      yash@123    Male      yash      India    50           0   \n",
       "2      Disha     disha@123  Female     disha  Australia  21.0           0   \n",
       "3      Gauri     gauri@123  Female     gauri  Australia  22.0           0   \n",
       "4    Kalyani   kalyani@123  Female   kalyani     Africa  23.0           0   \n",
       "5      Komal     komal@123  Female     komal      Nepal  24.0           0   \n",
       "6     Swarag    swarag@123    Male    swarag        USA  26.0           1   \n",
       "7      Arpit     arpit@123    Male     arpit        USA  27.0           0   \n",
       "8    Nishank   nishank@123    Male   nishank        USA  27.0           0   \n",
       "9      Jatin     jatin@123    Male     jatin        USA  27.0           0   \n",
       "10     Rajat     rajat@123    Male     rajat        USA  47.0           0   \n",
       "11    Chakri    chakri@123    Male    chakri        USA  37.0           0   \n",
       "12     Anuja     anuja@123  Female     anuja      India  33.0           0   \n",
       "13   Rishabh   rishabh@123    Male   rishabh      India  30.0           0   \n",
       "\n",
       "    Is_Verified           Last Login           Created At  \n",
       "0             1  2022-12-05 23:59:59  2019-12-31 23:59:59  \n",
       "1             1  2022-11-05 23:59:59  2019-11-31 23:59:59  \n",
       "2             1  2022-10-05 23:59:59  2019-10-31 23:59:59  \n",
       "3             1  2022-09-05 23:59:59  2019-09-31 23:59:59  \n",
       "4             1  2022-08-05 23:59:59  2019-08-31 23:59:59  \n",
       "5             1  2022-07-05 23:59:59  2019-07-31 23:59:59  \n",
       "6             1  2022-06-06 23:59:59  2019-06-31 23:59:59  \n",
       "7             1  2022-12-06 23:59:59  2019-06-31 23:59:59  \n",
       "8             1  2022-05-06 23:59:59  2019-05-31 23:59:59  \n",
       "9             1  2022-04-06 23:59:59  2019-04-31 23:59:59  \n",
       "10            1  2022-12-06 23:59:59  2019-04-31 23:59:59  \n",
       "11            1  2022-12-01 23:59:59  2019-03-31 23:59:59  \n",
       "12            0  2022-09-01 23:59:59  2019-03-31 23:59:59  \n",
       "13            0  2022-12-06 23:59:59  2019-03-31 23:59:59  "
      ]
     },
     "execution_count": 66,
     "metadata": {},
     "output_type": "execute_result"
    }
   ],
   "source": [
    "df_User"
   ]
  },
  {
   "cell_type": "code",
   "execution_count": 67,
   "id": "4ba3b5c2",
   "metadata": {},
   "outputs": [
    {
     "data": {
      "text/html": [
       "<div>\n",
       "<style scoped>\n",
       "    .dataframe tbody tr th:only-of-type {\n",
       "        vertical-align: middle;\n",
       "    }\n",
       "\n",
       "    .dataframe tbody tr th {\n",
       "        vertical-align: top;\n",
       "    }\n",
       "\n",
       "    .dataframe thead th {\n",
       "        text-align: right;\n",
       "    }\n",
       "</style>\n",
       "<table border=\"1\" class=\"dataframe\">\n",
       "  <thead>\n",
       "    <tr style=\"text-align: right;\">\n",
       "      <th></th>\n",
       "      <th>Name</th>\n",
       "      <th>Password</th>\n",
       "      <th>Gender</th>\n",
       "      <th>Nickname</th>\n",
       "      <th>Country</th>\n",
       "      <th>Age</th>\n",
       "      <th>Is Deleted</th>\n",
       "      <th>Is_Verified</th>\n",
       "      <th>Last Login</th>\n",
       "      <th>Created At</th>\n",
       "    </tr>\n",
       "  </thead>\n",
       "  <tbody>\n",
       "    <tr>\n",
       "      <th>0</th>\n",
       "      <td>Harshila</td>\n",
       "      <td>harshila@123</td>\n",
       "      <td>Female</td>\n",
       "      <td>harshila</td>\n",
       "      <td>India</td>\n",
       "      <td>50</td>\n",
       "      <td>0</td>\n",
       "      <td>1</td>\n",
       "      <td>2022-12-05 23:59:59</td>\n",
       "      <td>2019-12-31 23:59:59</td>\n",
       "    </tr>\n",
       "    <tr>\n",
       "      <th>1</th>\n",
       "      <td>Yash</td>\n",
       "      <td>yash@123</td>\n",
       "      <td>Male</td>\n",
       "      <td>yash</td>\n",
       "      <td>India</td>\n",
       "      <td>50</td>\n",
       "      <td>0</td>\n",
       "      <td>1</td>\n",
       "      <td>2022-11-05 23:59:59</td>\n",
       "      <td>2019-11-31 23:59:59</td>\n",
       "    </tr>\n",
       "    <tr>\n",
       "      <th>2</th>\n",
       "      <td>Disha</td>\n",
       "      <td>disha@123</td>\n",
       "      <td>Female</td>\n",
       "      <td>disha</td>\n",
       "      <td>Australia</td>\n",
       "      <td>21.0</td>\n",
       "      <td>0</td>\n",
       "      <td>1</td>\n",
       "      <td>2022-10-05 23:59:59</td>\n",
       "      <td>2019-10-31 23:59:59</td>\n",
       "    </tr>\n",
       "    <tr>\n",
       "      <th>3</th>\n",
       "      <td>Gauri</td>\n",
       "      <td>gauri@123</td>\n",
       "      <td>Female</td>\n",
       "      <td>gauri</td>\n",
       "      <td>Australia</td>\n",
       "      <td>22.0</td>\n",
       "      <td>0</td>\n",
       "      <td>1</td>\n",
       "      <td>2022-09-05 23:59:59</td>\n",
       "      <td>2019-09-31 23:59:59</td>\n",
       "    </tr>\n",
       "    <tr>\n",
       "      <th>4</th>\n",
       "      <td>Kalyani</td>\n",
       "      <td>kalyani@123</td>\n",
       "      <td>Female</td>\n",
       "      <td>kalyani</td>\n",
       "      <td>Africa</td>\n",
       "      <td>23.0</td>\n",
       "      <td>0</td>\n",
       "      <td>1</td>\n",
       "      <td>2022-08-05 23:59:59</td>\n",
       "      <td>2019-08-31 23:59:59</td>\n",
       "    </tr>\n",
       "  </tbody>\n",
       "</table>\n",
       "</div>"
      ],
      "text/plain": [
       "       Name      Password  Gender  Nickname    Country   Age  Is Deleted  \\\n",
       "0  Harshila  harshila@123  Female  harshila      India    50           0   \n",
       "1      Yash      yash@123    Male      yash      India    50           0   \n",
       "2     Disha     disha@123  Female     disha  Australia  21.0           0   \n",
       "3     Gauri     gauri@123  Female     gauri  Australia  22.0           0   \n",
       "4   Kalyani   kalyani@123  Female   kalyani     Africa  23.0           0   \n",
       "\n",
       "   Is_Verified           Last Login           Created At  \n",
       "0            1  2022-12-05 23:59:59  2019-12-31 23:59:59  \n",
       "1            1  2022-11-05 23:59:59  2019-11-31 23:59:59  \n",
       "2            1  2022-10-05 23:59:59  2019-10-31 23:59:59  \n",
       "3            1  2022-09-05 23:59:59  2019-09-31 23:59:59  \n",
       "4            1  2022-08-05 23:59:59  2019-08-31 23:59:59  "
      ]
     },
     "execution_count": 67,
     "metadata": {},
     "output_type": "execute_result"
    }
   ],
   "source": [
    "df_User.head()"
   ]
  },
  {
   "cell_type": "code",
   "execution_count": 79,
   "id": "b2213bea",
   "metadata": {},
   "outputs": [],
   "source": [
    "#relationship analysis\n",
    "correlation = df_User.corr()"
   ]
  },
  {
   "cell_type": "code",
   "execution_count": 80,
   "id": "1b04d8e1",
   "metadata": {},
   "outputs": [
    {
     "data": {
      "text/plain": [
       "<AxesSubplot:>"
      ]
     },
     "execution_count": 80,
     "metadata": {},
     "output_type": "execute_result"
    },
    {
     "data": {
      "image/png": "[encoded data removed]",
      "text/plain": [
       "<Figure size 432x288 with 2 Axes>"
      ]
     },
     "metadata": {
      "needs_background": "light"
     },
     "output_type": "display_data"
    }
   ],
   "source": [
    "sns.heatmap(correlation, xticklabels=correlation.columns, yticklabels=correlation.columns, annot= True)"
   ]
  },
  {
   "cell_type": "code",
   "execution_count": 81,
   "id": "46330e28",
   "metadata": {},
   "outputs": [
    {
     "data": {
      "text/plain": [
       "<seaborn.axisgrid.PairGrid at 0x1ff196971c0>"
      ]
     },
     "execution_count": 81,
     "metadata": {},
     "output_type": "execute_result"
    },
    {
     "data": {
      "image/png": "[encoded data removed]",
      "text/plain": [
       "<Figure size 360x360 with 6 Axes>"
      ]
     },
     "metadata": {
      "needs_background": "light"
     },
     "output_type": "display_data"
    }
   ],
   "source": [
    "#visualize relation between two variables, each variable in the dataset\n",
    "sns.pairplot(correlation)"
   ]
  },
  {
   "cell_type": "code",
   "execution_count": 82,
   "id": "cafcbd61",
   "metadata": {},
   "outputs": [
    {
     "data": {
      "text/html": [
       "<div>\n",
       "<style scoped>\n",
       "    .dataframe tbody tr th:only-of-type {\n",
       "        vertical-align: middle;\n",
       "    }\n",
       "\n",
       "    .dataframe tbody tr th {\n",
       "        vertical-align: top;\n",
       "    }\n",
       "\n",
       "    .dataframe thead th {\n",
       "        text-align: right;\n",
       "    }\n",
       "</style>\n",
       "<table border=\"1\" class=\"dataframe\">\n",
       "  <thead>\n",
       "    <tr style=\"text-align: right;\">\n",
       "      <th></th>\n",
       "      <th>Is Deleted</th>\n",
       "      <th>Is_Verified</th>\n",
       "    </tr>\n",
       "  </thead>\n",
       "  <tbody>\n",
       "    <tr>\n",
       "      <th>Is Deleted</th>\n",
       "      <td>1.000000</td>\n",
       "      <td>0.113228</td>\n",
       "    </tr>\n",
       "    <tr>\n",
       "      <th>Is_Verified</th>\n",
       "      <td>0.113228</td>\n",
       "      <td>1.000000</td>\n",
       "    </tr>\n",
       "  </tbody>\n",
       "</table>\n",
       "</div>"
      ],
      "text/plain": [
       "             Is Deleted  Is_Verified\n",
       "Is Deleted     1.000000     0.113228\n",
       "Is_Verified    0.113228     1.000000"
      ]
     },
     "execution_count": 82,
     "metadata": {},
     "output_type": "execute_result"
    }
   ],
   "source": [
    "correlation"
   ]
  },
  {
   "cell_type": "code",
   "execution_count": 84,
   "id": "69bf62cb",
   "metadata": {},
   "outputs": [
    {
     "name": "stderr",
     "output_type": "stream",
     "text": [
      "C:\\Users\\shric\\anaconda3\\lib\\site-packages\\seaborn\\distributions.py:2619: FutureWarning: `distplot` is a deprecated function and will be removed in a future version. Please adapt your code to use either `displot` (a figure-level function with similar flexibility) or `histplot` (an axes-level function for histograms).\n",
      "  warnings.warn(msg, FutureWarning)\n"
     ]
    },
    {
     "data": {
      "text/plain": [
       "<AxesSubplot:xlabel='Is Deleted', ylabel='Density'>"
      ]
     },
     "execution_count": 84,
     "metadata": {},
     "output_type": "execute_result"
    },
    {
     "data": {
      "image/png": "[encoded data removed]",
      "text/plain": [
       "<Figure size 432x288 with 1 Axes>"
      ]
     },
     "metadata": {
      "needs_background": "light"
     },
     "output_type": "display_data"
    }
   ],
   "source": [
    "sns.distplot(correlation['Is Deleted'], bins=10)"
   ]
  },
  {
   "cell_type": "code",
   "execution_count": 86,
   "id": "3cb61c42",
   "metadata": {},
   "outputs": [
    {
     "data": {
      "text/plain": [
       "<seaborn.axisgrid.FacetGrid at 0x1ff1cfad730>"
      ]
     },
     "execution_count": 86,
     "metadata": {},
     "output_type": "execute_result"
    },
    {
     "data": {
      "image/png": "[encoded data removed]",
      "text/plain": [
       "<Figure size 360x360 with 1 Axes>"
      ]
     },
     "metadata": {
      "needs_background": "light"
     },
     "output_type": "display_data"
    }
   ],
   "source": [
    "sns.catplot(x='Is Deleted', kind='box', data=correlation)"
   ]
  },
  {
   "cell_type": "code",
   "execution_count": 87,
   "id": "862c321a",
   "metadata": {},
   "outputs": [],
   "source": [
    "# create category table and adding constraints\n",
    "mycursor.execute(\"DROP TABLE IF EXISTS Category\")\n",
    "mycursor.execute(\"CREATE TABLE Category ( category_id int not null AUTO_INCREMENT, name varchar(255), PRIMARY KEY (category_id))\")"
   ]
  },
  {
   "cell_type": "code",
   "execution_count": 180,
   "id": "d22b45eb",
   "metadata": {},
   "outputs": [
    {
     "name": "stdout",
     "output_type": "stream",
     "text": [
      "8 was inserted.\n"
     ]
    }
   ],
   "source": [
    "# inserting df_Category dataframe in sql user table \n",
    "\n",
    "val = list(df_Category.itertuples(index=False,name=None))\n",
    "sql = \"INSERT IGNORE INTO Category (name) VALUES (%s)\"\n",
    "\n",
    "mycursor.executemany(sql, val)\n",
    "\n",
    "mydb.commit()\n",
    "\n",
    "print(mycursor.rowcount, \"was inserted.\")"
   ]
  },
  {
   "cell_type": "code",
   "execution_count": 181,
   "id": "d714ed34",
   "metadata": {},
   "outputs": [],
   "source": [
    "# create Blocked_user table and adding constraints\n",
    "mycursor.execute(\"DROP TABLE IF EXISTS Blocked_user\")\n",
    "mycursor.execute(\"CREATE TABLE Blocked_user ( block_id int not null AUTO_INCREMENT, blocked_by int, blocked_whom int, PRIMARY KEY (block_id), FOREIGN KEY(blocked_by) REFERENCES User(user_id), FOREIGN KEY(blocked_whom) REFERENCES User(user_id))\")"
   ]
  },
  {
   "cell_type": "code",
   "execution_count": 182,
   "id": "94a5ee1f",
   "metadata": {},
   "outputs": [
    {
     "name": "stdout",
     "output_type": "stream",
     "text": [
      "3 was inserted.\n"
     ]
    }
   ],
   "source": [
    "# inserting df_Blocked_User dataframe in sql user table \n",
    "\n",
    "val = list(df_Blocked_User.itertuples(index=False,name=None))\n",
    "sql = \"INSERT IGNORE INTO Blocked_user (blocked_by, blocked_whom) VALUES (%s, %s)\"\n",
    "\n",
    "mycursor.executemany(sql, val)\n",
    "\n",
    "mydb.commit()\n",
    "\n",
    "print(mycursor.rowcount, \"was inserted.\")"
   ]
  },
  {
   "cell_type": "code",
   "execution_count": 183,
   "id": "2314bc03",
   "metadata": {},
   "outputs": [],
   "source": [
    "# create User_InterestCategory table and adding constraints\n",
    "\n",
    "mycursor.execute(\"DROP TABLE IF EXISTS User_InterestCategory\")\n",
    "mycursor.execute(\"CREATE TABLE User_InterestCategory (Interest_id int not null AUTO_INCREMENT, user_id int, category_id int, PRIMARY KEY (Interest_id), FOREIGN KEY(category_id) REFERENCES Category(category_id), FOREIGN KEY(user_id) REFERENCES User(user_id))\")"
   ]
  },
  {
   "cell_type": "code",
   "execution_count": 184,
   "id": "3cb9316c",
   "metadata": {},
   "outputs": [
    {
     "name": "stdout",
     "output_type": "stream",
     "text": [
      "10 was inserted.\n"
     ]
    }
   ],
   "source": [
    "# inserting df_User_Interest_Category dataframe in sql user table \n",
    "\n",
    "val = list(df_User_Interest_Category.itertuples(index=False,name=None))\n",
    "sql = \"INSERT IGNORE INTO User_InterestCategory (user_id, category_id) VALUES (%s, %s)\"\n",
    "\n",
    "mycursor.executemany(sql, val)\n",
    "\n",
    "mydb.commit()\n",
    "\n",
    "print(mycursor.rowcount, \"was inserted.\")"
   ]
  },
  {
   "cell_type": "code",
   "execution_count": 185,
   "id": "9ad14610",
   "metadata": {},
   "outputs": [],
   "source": [
    "# create Match Details table and adding constraints\n",
    "\n",
    "mycursor.execute(\"DROP TABLE IF EXISTS Match_Details\")\n",
    "mycursor.execute(\"CREATE TABLE Match_Details ( match_id int not null AUTO_INCREMENT, user1_id int, user2_id int, category_id int, match_time timestamp, PRIMARY KEY (match_id), FOREIGN KEY(user1_id) REFERENCES User(user_id), FOREIGN KEY(user2_id) REFERENCES User(user_id), FOREIGN KEY(category_id) REFERENCES Category(category_id))\")"
   ]
  },
  {
   "cell_type": "code",
   "execution_count": 186,
   "id": "b53d4190",
   "metadata": {},
   "outputs": [
    {
     "name": "stdout",
     "output_type": "stream",
     "text": [
      "5 was inserted.\n"
     ]
    }
   ],
   "source": [
    "# inserting df_Match_Details dataframe in sql user table \n",
    "\n",
    "val = list(df_Match_Details.itertuples(index=False,name=None))\n",
    "sql = \"INSERT IGNORE INTO Match_Details (user1_id, user2_id, category_id, match_time) VALUES (%s, %s, %s, %s)\"\n",
    "\n",
    "mycursor.executemany(sql, val)\n",
    "\n",
    "mydb.commit()\n",
    "\n",
    "print(mycursor.rowcount, \"was inserted.\")"
   ]
  },
  {
   "cell_type": "code",
   "execution_count": 187,
   "id": "59761b80",
   "metadata": {},
   "outputs": [],
   "source": [
    "# create Conversation table and adding constraints\n",
    "\n",
    "mycursor.execute(\"DROP TABLE IF EXISTS Conversation\")\n",
    "mycursor.execute(\"CREATE TABLE Conversation ( conversation_id int not null AUTO_INCREMENT, message VARCHAR(255), match_id int, PRIMARY KEY (conversation_id), FOREIGN KEY(match_id) REFERENCES Match_Details(match_id))\")"
   ]
  },
  {
   "cell_type": "code",
   "execution_count": 188,
   "id": "7eafaa32",
   "metadata": {},
   "outputs": [
    {
     "name": "stdout",
     "output_type": "stream",
     "text": [
      "3 was inserted.\n"
     ]
    }
   ],
   "source": [
    "# inserting df_Conversation dataframe in sql user table \n",
    "\n",
    "val = list(df_Conversation.itertuples(index=False,name=None))\n",
    "sql = \"INSERT IGNORE INTO Conversation (match_id, message) VALUES (%s, %s)\"\n",
    "\n",
    "mycursor.executemany(sql, val)\n",
    "\n",
    "mydb.commit()\n",
    "\n",
    "print(mycursor.rowcount, \"was inserted.\")"
   ]
  },
  {
   "cell_type": "code",
   "execution_count": 189,
   "id": "a2095785",
   "metadata": {},
   "outputs": [],
   "source": [
    "# create Group Details table and adding constraints\n",
    "\n",
    "mycursor.execute(\"DROP TABLE IF EXISTS Group_Details\")\n",
    "mycursor.execute(\"CREATE TABLE Group_Details (group_id int not null AUTO_INCREMENT,group_name varchar(255),category_id int,PRIMARY KEY (group_id),FOREIGN KEY(category_id) REFERENCES Category(category_id))\")"
   ]
  },
  {
   "cell_type": "code",
   "execution_count": 190,
   "id": "f3f72265",
   "metadata": {},
   "outputs": [
    {
     "name": "stdout",
     "output_type": "stream",
     "text": [
      "7 was inserted.\n"
     ]
    }
   ],
   "source": [
    "# inserting df_Group_Details dataframe in sql user table \n",
    "\n",
    "val = list(df_Group_Details.itertuples(index=False,name=None))\n",
    "sql = \"INSERT IGNORE INTO Group_Details (category_id, group_name) VALUES (%s, %s)\"\n",
    "\n",
    "mycursor.executemany(sql, val)\n",
    "\n",
    "mydb.commit()\n",
    "\n",
    "print(mycursor.rowcount, \"was inserted.\")"
   ]
  },
  {
   "cell_type": "code",
   "execution_count": 191,
   "id": "b779c6e9",
   "metadata": {},
   "outputs": [],
   "source": [
    "# create Event Details table and adding constraints\n",
    "\n",
    "mycursor.execute(\"DROP TABLE IF EXISTS Event_Details\")\n",
    "mycursor.execute(\"CREATE TABLE Event_Details (event_id int not null AUTO_INCREMENT,event_name varchar(255),event_date timestamp,group_id int,PRIMARY KEY (event_id),FOREIGN KEY(group_id) REFERENCES Group_Details(group_id))\")"
   ]
  },
  {
   "cell_type": "code",
   "execution_count": 192,
   "id": "240355b1",
   "metadata": {},
   "outputs": [
    {
     "name": "stdout",
     "output_type": "stream",
     "text": [
      "5 was inserted.\n"
     ]
    }
   ],
   "source": [
    "# inserting df_Event_Details dataframe in sql user table \n",
    "\n",
    "val = list(df_Event_Details.itertuples(index=False,name=None))\n",
    "sql = \"INSERT IGNORE INTO Event_Details (group_id, event_name, event_date) VALUES (%s, %s, %s)\"\n",
    "\n",
    "mycursor.executemany(sql, val)\n",
    "\n",
    "mydb.commit()\n",
    "\n",
    "print(mycursor.rowcount, \"was inserted.\")"
   ]
  },
  {
   "cell_type": "code",
   "execution_count": 193,
   "id": "c54c4b79",
   "metadata": {},
   "outputs": [],
   "source": [
    "# create User Events table and adding constraints\n",
    "\n",
    "mycursor.execute(\"DROP TABLE IF EXISTS User_Events\")\n",
    "mycursor.execute(\"CREATE TABLE User_Events (user_event_id int not null AUTO_INCREMENT,event_id int,user_id int,PRIMARY KEY (user_event_id),FOREIGN KEY(event_id) REFERENCES Event_Details(event_id),FOREIGN KEY(user_id) REFERENCES User(user_id))\")"
   ]
  },
  {
   "cell_type": "code",
   "execution_count": 194,
   "id": "b753d011",
   "metadata": {},
   "outputs": [
    {
     "name": "stdout",
     "output_type": "stream",
     "text": [
      "5 was inserted.\n"
     ]
    }
   ],
   "source": [
    "# inserting df_User_Events dataframe in sql user table \n",
    "\n",
    "val = list(df_User_Events.itertuples(index=False,name=None))\n",
    "sql = \"INSERT IGNORE INTO User_Events (event_id, user_id) VALUES (%s, %s)\"\n",
    "\n",
    "mycursor.executemany(sql, val)\n",
    "\n",
    "mydb.commit()\n",
    "\n",
    "print(mycursor.rowcount, \"was inserted.\")"
   ]
  },
  {
   "cell_type": "code",
   "execution_count": null,
   "id": "128e4639",
   "metadata": {},
   "outputs": [],
   "source": []
  }
 ],
 "metadata": {
  "kernelspec": {
   "display_name": "Python 3 (ipykernel)",
   "language": "python",
   "name": "python3"
  },
  "language_info": {
   "codemirror_mode": {
    "name": "ipython",
    "version": 3
   },
   "file_extension": ".py",
   "mimetype": "text/x-python",
   "name": "python",
   "nbconvert_exporter": "python",
   "pygments_lexer": "ipython3",
   "version": "3.9.12"
  }
 },
 "nbformat": 4,
 "nbformat_minor": 5
}
